{
 "cells": [
  {
   "cell_type": "code",
   "execution_count": 1,
   "metadata": {},
   "outputs": [],
   "source": [
    "import pandas as pd\n",
    "import glob\n",
    "import numpy as np\n",
    "import matplotlib.pyplot as plt"
   ]
  },
  {
   "cell_type": "code",
   "execution_count": 2,
   "metadata": {},
   "outputs": [],
   "source": [
    "def get_dataframe(path):\n",
    "    all_files = glob.glob(path + \"/*.csv\")\n",
    "    li = []\n",
    "    for filename in all_files:\n",
    "        df = pd.read_csv(filename, index_col=None, header=0)\n",
    "        li.append(df)\n",
    "    frame = pd.concat(li, axis=0, ignore_index=True)\n",
    "    return frame"
   ]
  },
  {
   "cell_type": "code",
   "execution_count": 3,
   "metadata": {},
   "outputs": [
    {
     "name": "stderr",
     "output_type": "stream",
     "text": [
      "/Users/reedhuston/opt/anaconda3/lib/python3.8/site-packages/IPython/core/interactiveshell.py:3357: DtypeWarning: Columns (11) have mixed types.Specify dtype option on import or set low_memory=False.\n",
      "  if (await self.run_code(code, result,  async_=asy)):\n"
     ]
    }
   ],
   "source": [
    "My_months = get_dataframe('./Data')"
   ]
  },
  {
   "cell_type": "code",
   "execution_count": 4,
   "metadata": {},
   "outputs": [
    {
     "data": {
      "text/plain": [
       "Index(['OBJECTID', 'TICKET_NUMBER', 'ISSUE_DATE', 'ISSUE_TIME',\n",
       "       'ISSUING_AGENCY_CODE', 'ISSUING_AGENCY_NAME', 'ISSUING_AGENCY_SHORT',\n",
       "       'VIOLATION_CODE', 'VIOLATION_PROC_DESC', 'LOCATION', 'PLATE_STATE',\n",
       "       'VEHICLE_TYPE', 'MULTI_OWNER_NUMBER', 'DISPOSITION_CODE',\n",
       "       'DISPOSITION_TYPE', 'DISPOSITION_DESC', 'DISPOSITION_DATE',\n",
       "       'FINE_AMOUNT', 'TOTAL_PAID', 'PENALTY_1', 'PENALTY_2', 'PENALTY_3',\n",
       "       'PENALTY_4', 'PENALTY_5', 'XCOORD', 'YCOORD', 'LATITUDE', 'LONGITUDE',\n",
       "       'MAR_ID', 'GIS_LAST_MOD_DTTM', 'objectid', 'issuing_agency_name',\n",
       "       'issuing_agency_short', 'violation_code', 'violation_proc_desc',\n",
       "       'disposition_type', 'fine_amount', 'total_paid', 'latitude',\n",
       "       'longitude', 'year', 'month', 'date', 'day', 'hour', 'minute',\n",
       "       'loc_tokens', 'NE', 'NW', 'SE', 'SW', 'quadrant', 'issuing_agency_code',\n",
       "       'location', 'xcoord', 'ycoord'],\n",
       "      dtype='object')"
      ]
     },
     "execution_count": 4,
     "metadata": {},
     "output_type": "execute_result"
    }
   ],
   "source": [
    "My_months.columns"
   ]
  },
  {
   "cell_type": "code",
   "execution_count": 5,
   "metadata": {},
   "outputs": [
    {
     "data": {
      "text/plain": [
       "OBJECTID                3563006\n",
       "TICKET_NUMBER           3563006\n",
       "ISSUE_DATE              3563006\n",
       "ISSUE_TIME              3563494\n",
       "ISSUING_AGENCY_CODE     3563111\n",
       "ISSUING_AGENCY_NAME     3563111\n",
       "ISSUING_AGENCY_SHORT    3563111\n",
       "VIOLATION_CODE          3563006\n",
       "VIOLATION_PROC_DESC     3585841\n",
       "LOCATION                3563097\n",
       "PLATE_STATE             3563006\n",
       "VEHICLE_TYPE            4288294\n",
       "MULTI_OWNER_NUMBER      4251346\n",
       "DISPOSITION_CODE        3995972\n",
       "DISPOSITION_TYPE        3563006\n",
       "DISPOSITION_DESC        3995972\n",
       "DISPOSITION_DATE        3995972\n",
       "FINE_AMOUNT             3586627\n",
       "TOTAL_PAID              3563006\n",
       "PENALTY_1               4005626\n",
       "PENALTY_2               4288295\n",
       "PENALTY_3               4146522\n",
       "PENALTY_4               4288153\n",
       "PENALTY_5               4288295\n",
       "XCOORD                  3586419\n",
       "YCOORD                  3586419\n",
       "LATITUDE                3586419\n",
       "LONGITUDE               3586419\n",
       "MAR_ID                  3586419\n",
       "GIS_LAST_MOD_DTTM       3563006\n",
       "objectid                 725289\n",
       "issuing_agency_name      725289\n",
       "issuing_agency_short     725289\n",
       "violation_code           725289\n",
       "violation_proc_desc      725289\n",
       "disposition_type         725289\n",
       "fine_amount              725289\n",
       "total_paid               725289\n",
       "latitude                 725289\n",
       "longitude                725289\n",
       "year                     725289\n",
       "month                    725289\n",
       "date                     725289\n",
       "day                      725289\n",
       "hour                     725289\n",
       "minute                   725289\n",
       "loc_tokens              3395096\n",
       "NE                      3395096\n",
       "NW                      3395096\n",
       "SE                      3395096\n",
       "SW                      3395096\n",
       "quadrant                3395096\n",
       "issuing_agency_code     1618488\n",
       "location                1618488\n",
       "xcoord                  1618488\n",
       "ycoord                  1618488\n",
       "dtype: int64"
      ]
     },
     "execution_count": 5,
     "metadata": {},
     "output_type": "execute_result"
    }
   ],
   "source": [
    "My_months.isnull().sum()"
   ]
  },
  {
   "cell_type": "code",
   "execution_count": 6,
   "metadata": {},
   "outputs": [],
   "source": [
    "My_months.drop(columns=['DISPOSITION_CODE','DISPOSITION_DATE','PLATE_STATE','PENALTY_1',\n",
    "                             'PENALTY_2','PENALTY_3','PENALTY_4','PENALTY_5',\n",
    "                             'VEHICLE_TYPE','MULTI_OWNER_NUMBER','DISPOSITION_DESC',\n",
    "                            'TICKET_NUMBER'],inplace=True)"
   ]
  },
  {
   "cell_type": "code",
   "execution_count": 7,
   "metadata": {},
   "outputs": [],
   "source": [
    "#lowercase column names\n",
    "My_months.columns = map(str.lower, My_months.columns)"
   ]
  },
  {
   "cell_type": "code",
   "execution_count": 8,
   "metadata": {},
   "outputs": [],
   "source": [
    "#drop issue_time nulls\n",
    "My_months = My_months[My_months['issue_time'].notna()]\n",
    "#drop issue_time rows that don't have proper format\n",
    "My_months = My_months[My_months['issue_time'].str.len()==8]"
   ]
  },
  {
   "cell_type": "code",
   "execution_count": 9,
   "metadata": {},
   "outputs": [
    {
     "data": {
      "text/plain": [
       "0    2018/02/20\n",
       "1    2018/02/20\n",
       "2    2018/02/20\n",
       "3    2018/02/20\n",
       "4    2018/02/20\n",
       "Name: issue_date, dtype: object"
      ]
     },
     "execution_count": 9,
     "metadata": {},
     "output_type": "execute_result"
    }
   ],
   "source": [
    "#remove characters after space in issue date\n",
    "My_months['issue_date'] = My_months['issue_date'].str.split().str[0]\n",
    "My_months['issue_date'].head()"
   ]
  },
  {
   "cell_type": "code",
   "execution_count": 10,
   "metadata": {},
   "outputs": [
    {
     "data": {
      "text/plain": [
       "0    2018/02/20 04:11 PM\n",
       "1    2018/02/20 10:00 AM\n",
       "Name: issue_datetime, dtype: object"
      ]
     },
     "execution_count": 10,
     "metadata": {},
     "output_type": "execute_result"
    }
   ],
   "source": [
    "#create new column date plus time\n",
    "My_months['issue_datetime']= My_months['issue_date']+' '+My_months['issue_time']\n",
    "My_months['issue_datetime'].head(2)"
   ]
  },
  {
   "cell_type": "code",
   "execution_count": 11,
   "metadata": {},
   "outputs": [
    {
     "data": {
      "text/plain": [
       "0   2018-02-20 16:11:00\n",
       "Name: issue_datetime, dtype: datetime64[ns]"
      ]
     },
     "execution_count": 11,
     "metadata": {},
     "output_type": "execute_result"
    }
   ],
   "source": [
    "#convert to date time format\n",
    "My_months['issue_datetime'] = My_months['issue_datetime'].astype('datetime64[ns]')\n",
    "My_months['issue_datetime'].head(1)"
   ]
  },
  {
   "cell_type": "code",
   "execution_count": 12,
   "metadata": {},
   "outputs": [],
   "source": [
    "#add columns for year, month, date, dayofweek, hour, minute\n",
    "My_months['year'] = My_months['issue_datetime'].dt.year\n",
    "My_months['month'] = My_months['issue_datetime'].dt.month\n",
    "My_months['date'] = My_months['issue_datetime'].dt.day\n",
    "My_months['day'] = My_months['issue_datetime'].dt.dayofweek\n",
    "My_months['hour'] = My_months['issue_datetime'].dt.hour\n",
    "My_months['minute'] = My_months['issue_datetime'].dt.minute"
   ]
  },
  {
   "cell_type": "code",
   "execution_count": 13,
   "metadata": {},
   "outputs": [],
   "source": [
    "#drop unused columns\n",
    "My_months.drop(columns=['issue_date','issue_time','issue_datetime'],inplace=True)"
   ]
  },
  {
   "cell_type": "code",
   "execution_count": 14,
   "metadata": {},
   "outputs": [],
   "source": [
    "My_months.dropna(subset=['xcoord'],inplace=True)"
   ]
  },
  {
   "cell_type": "code",
   "execution_count": 15,
   "metadata": {},
   "outputs": [],
   "source": [
    "My_months.drop(columns='mar_id',inplace=True)"
   ]
  },
  {
   "cell_type": "code",
   "execution_count": 16,
   "metadata": {},
   "outputs": [],
   "source": [
    "My_months.drop(columns='gis_last_mod_dttm',inplace=True)"
   ]
  },
  {
   "cell_type": "code",
   "execution_count": 17,
   "metadata": {},
   "outputs": [],
   "source": [
    "My_months.dropna(subset=['fine_amount'],inplace=True)"
   ]
  },
  {
   "cell_type": "code",
   "execution_count": 18,
   "metadata": {},
   "outputs": [],
   "source": [
    "My_months.to_csv('My_months.csv',index=False)"
   ]
  },
  {
   "cell_type": "code",
   "execution_count": 19,
   "metadata": {},
   "outputs": [
    {
     "data": {
      "text/plain": [
       "objectid                0\n",
       "issuing_agency_code     0\n",
       "issuing_agency_name     0\n",
       "issuing_agency_short    0\n",
       "violation_code          0\n",
       "violation_proc_desc     0\n",
       "location                0\n",
       "disposition_type        0\n",
       "fine_amount             0\n",
       "total_paid              0\n",
       "xcoord                  0\n",
       "ycoord                  0\n",
       "latitude                0\n",
       "longitude               0\n",
       "objectid                0\n",
       "issuing_agency_name     0\n",
       "issuing_agency_short    0\n",
       "violation_code          0\n",
       "violation_proc_desc     0\n",
       "disposition_type        0\n",
       "fine_amount             0\n",
       "total_paid              0\n",
       "latitude                0\n",
       "longitude               0\n",
       "year                    0\n",
       "month                   0\n",
       "date                    0\n",
       "day                     0\n",
       "hour                    0\n",
       "minute                  0\n",
       "loc_tokens              0\n",
       "ne                      0\n",
       "nw                      0\n",
       "se                      0\n",
       "sw                      0\n",
       "quadrant                0\n",
       "issuing_agency_code     0\n",
       "location                0\n",
       "xcoord                  0\n",
       "ycoord                  0\n",
       "dtype: int64"
      ]
     },
     "execution_count": 19,
     "metadata": {},
     "output_type": "execute_result"
    }
   ],
   "source": [
    "My_months.isnull().sum()"
   ]
  },
  {
   "cell_type": "code",
   "execution_count": 20,
   "metadata": {},
   "outputs": [
    {
     "data": {
      "text/plain": [
       "{'disposition_type'}"
      ]
     },
     "execution_count": 20,
     "metadata": {},
     "output_type": "execute_result"
    }
   ],
   "source": [
    "set(My_months['disposition_type'])"
   ]
  },
  {
   "cell_type": "code",
   "execution_count": 21,
   "metadata": {},
   "outputs": [],
   "source": [
    "tickets = pd.read_csv('./Data/total.csv')"
   ]
  },
  {
   "cell_type": "code",
   "execution_count": 22,
   "metadata": {},
   "outputs": [],
   "source": [
    "# Dropping rows with disposition_type = 'other'\n",
    "tickets.drop(tickets[tickets['disposition_type'] == 'Other'].index, inplace=True)\n",
    "# Dropping rows with disposition_type = 'void'\n",
    "tickets.drop(tickets[tickets['disposition_type'] == 'Void'].index, inplace=True)\n",
    "# Dropping rows with disposition_type = 'continued'\n",
    "tickets.drop(tickets[tickets['disposition_type'] == 'Continued'].index, inplace=True)\n",
    "# Dropping rows with disposition_type = 'administrative'\n",
    "tickets.drop(tickets[tickets['disposition_type'] == 'Administrative'].index, inplace=True)"
   ]
  },
  {
   "cell_type": "code",
   "execution_count": 23,
   "metadata": {},
   "outputs": [],
   "source": [
    "# Unnecessary columns to drop -'issuing agency code', 'xcoord', 'ycoord', 'location'\n",
    "tickets.drop(columns=['issuing_agency_code', 'xcoord', 'ycoord', 'location'], inplace=True)"
   ]
  },
  {
   "cell_type": "code",
   "execution_count": 24,
   "metadata": {},
   "outputs": [],
   "source": [
    "# Grouping all the different type of liables into one 'liable' class\n",
    "tickets['disposition_type'] = tickets['disposition_type'].replace(\n",
    "    ['Liable - System','Liable - Traffic'], 'Liable')"
   ]
  },
  {
   "cell_type": "code",
   "execution_count": 25,
   "metadata": {},
   "outputs": [
    {
     "data": {
      "text/plain": [
       "NO PARKING ANYTIME                                   6\n",
       "DISOBEYING OFFICIAL SIGN                             4\n",
       "PARK WITHIN 10 FEET OF A FIRE HYDRANT                2\n",
       "PARK IN A BUS ZONE                                   2\n",
       "UNAUTHORIZED VEHICLE IN LOADING ZONE                 1\n",
       "FAILURE TO DISPLAY CURRENT TAGS                      1\n",
       "NO STANDING ANYTIME                                  1\n",
       "DEPOSIT PAYMENT TO EXTEND TIME BEYOND METER LIMIT    1\n",
       "PARK ON SIDEWALK OR AREA RESERVED FOR PEDESTRIANS    1\n",
       "Name: violation_proc_desc, dtype: int64"
      ]
     },
     "execution_count": 25,
     "metadata": {},
     "output_type": "execute_result"
    }
   ],
   "source": [
    "tickets.loc[tickets['issuing_agency_name']=='U.S. NATIONAL ZOOLOGICAL POLICE']['violation_proc_desc'].value_counts()"
   ]
  },
  {
   "cell_type": "code",
   "execution_count": 26,
   "metadata": {},
   "outputs": [
    {
     "data": {
      "text/plain": [
       "DEPARTMENT OF PUBLIC WORKS             829775\n",
       "METROPOLITAN POLICE DPT-DISTRICT 2      11043\n",
       "METROPOLITAN POLICE DPT-DISTRICT 1       7374\n",
       "METROPOLITAN POLICE DPT-DISTRICT 3       6454\n",
       "METROPOLITAN POLICE DPT-DISTRICT 4       6043\n",
       "METROPOLITAN POLICE DPT-DISTRICT 7       5080\n",
       "METRO POLICE                             4831\n",
       "DDOT                                     4390\n",
       "METROPOLITAN POLICE DPT-DISTRICT 5       3994\n",
       "METROPOLITAN POLICE DPT-DISTRICT 6       3496\n",
       "D.C. HOUSING AUTHORITY                   3291\n",
       "UNITED STATES PARK POLICE                2717\n",
       "SPECIAL OPERATION DIV & TRAFFIC DIV      1852\n",
       "UNITED STATES CAPITOL POLICE             1398\n",
       "PROTECTIVE SERVICES DEPT (DC GOVT)       1136\n",
       "US. SECRET SERVICE UNIFORM DIVISION       768\n",
       "UNVRSTY OF THE D.C. SECURITY POLICE       409\n",
       "FEDERAL PROTECTIVE SERVICES (US GV)       398\n",
       "COMMAND INFORMATION CENTER                374\n",
       "DPT. OF GENERAL SERVICES GUARDS           266\n",
       "Name: issuing_agency_name, dtype: int64"
      ]
     },
     "execution_count": 26,
     "metadata": {},
     "output_type": "execute_result"
    }
   ],
   "source": [
    "tickets['issuing_agency_name'].value_counts().head(20)"
   ]
  },
  {
   "cell_type": "code",
   "execution_count": 27,
   "metadata": {},
   "outputs": [],
   "source": [
    "cookies = pd.DataFrame(tickets['issuing_agency_name'].value_counts().head(20),index=None)"
   ]
  },
  {
   "cell_type": "code",
   "execution_count": 28,
   "metadata": {},
   "outputs": [
    {
     "data": {
      "text/plain": [
       "DEPARTMENT OF PUBLIC WORKS             829775\n",
       "METROPOLITAN POLICE DPT-DISTRICT 2      11043\n",
       "METROPOLITAN POLICE DPT-DISTRICT 1       7374\n",
       "METROPOLITAN POLICE DPT-DISTRICT 3       6454\n",
       "METROPOLITAN POLICE DPT-DISTRICT 4       6043\n",
       "METROPOLITAN POLICE DPT-DISTRICT 7       5080\n",
       "METRO POLICE                             4831\n",
       "DDOT                                     4390\n",
       "METROPOLITAN POLICE DPT-DISTRICT 5       3994\n",
       "METROPOLITAN POLICE DPT-DISTRICT 6       3496\n",
       "D.C. HOUSING AUTHORITY                   3291\n",
       "UNITED STATES PARK POLICE                2717\n",
       "SPECIAL OPERATION DIV & TRAFFIC DIV      1852\n",
       "UNITED STATES CAPITOL POLICE             1398\n",
       "PROTECTIVE SERVICES DEPT (DC GOVT)       1136\n",
       "Name: issuing_agency_name, dtype: int64"
      ]
     },
     "execution_count": 28,
     "metadata": {},
     "output_type": "execute_result"
    }
   ],
   "source": [
    "tickets['issuing_agency_name'].value_counts().head(15)"
   ]
  },
  {
   "cell_type": "code",
   "execution_count": 29,
   "metadata": {
    "tags": []
   },
   "outputs": [],
   "source": [
    "top_15_dismiss = tickets.groupby(by='issuing_agency_name')['disposition_type'].value_counts(normalize=True)[[9,11,13,31,36,38,40,42,44,46,48,62,68,78,79]]"
   ]
  },
  {
   "cell_type": "code",
   "execution_count": 30,
   "metadata": {},
   "outputs": [
    {
     "data": {
      "text/plain": [
       "MultiIndex([(       'UNITED STATES CAPITOL POLICE', 'Dismissed'),\n",
       "            (         'DEPARTMENT OF PUBLIC WORKS', 'Dismissed'),\n",
       "            ( 'METROPOLITAN POLICE DPT-DISTRICT 7', 'Dismissed'),\n",
       "            ( 'METROPOLITAN POLICE DPT-DISTRICT 6', 'Dismissed'),\n",
       "            ( 'METROPOLITAN POLICE DPT-DISTRICT 2', 'Dismissed'),\n",
       "            (                               'DDOT', 'Dismissed'),\n",
       "            (             'D.C. HOUSING AUTHORITY', 'Dismissed'),\n",
       "            ( 'METROPOLITAN POLICE DPT-DISTRICT 3', 'Dismissed'),\n",
       "            ( 'METROPOLITAN POLICE DPT-DISTRICT 5', 'Dismissed'),\n",
       "            ( 'METROPOLITAN POLICE DPT-DISTRICT 4', 'Dismissed'),\n",
       "            ('SPECIAL OPERATION DIV & TRAFFIC DIV', 'Dismissed'),\n",
       "            ( 'METROPOLITAN POLICE DPT-DISTRICT 1', 'Dismissed'),\n",
       "            (                       'METRO POLICE', 'Dismissed'),\n",
       "            ( 'PROTECTIVE SERVICES DEPT (DC GOVT)', 'Dismissed'),\n",
       "            (          'UNITED STATES PARK POLICE', 'Dismissed')],\n",
       "           names=['issuing_agency_name', 'disposition_type'])"
      ]
     },
     "execution_count": 30,
     "metadata": {},
     "output_type": "execute_result"
    }
   ],
   "source": [
    "pd.DataFrame(top_15_dismiss.sort_values()).index[range(15)]"
   ]
  },
  {
   "cell_type": "code",
   "execution_count": 33,
   "metadata": {},
   "outputs": [
    {
     "data": {
      "text/plain": [
       "objectid                  int64\n",
       "issuing_agency_name      object\n",
       "issuing_agency_short     object\n",
       "violation_code           object\n",
       "violation_proc_desc      object\n",
       "disposition_type         object\n",
       "fine_amount             float64\n",
       "total_paid                int64\n",
       "latitude                float64\n",
       "longitude               float64\n",
       "year                      int64\n",
       "month                     int64\n",
       "date                      int64\n",
       "day                       int64\n",
       "hour                      int64\n",
       "minute                    int64\n",
       "dtype: object"
      ]
     },
     "execution_count": 33,
     "metadata": {},
     "output_type": "execute_result"
    }
   ],
   "source": [
    "tickets.dtypes"
   ]
  },
  {
   "cell_type": "code",
   "execution_count": 32,
   "metadata": {},
   "outputs": [
    {
     "ename": "NameError",
     "evalue": "name 'new_frame' is not defined",
     "output_type": "error",
     "traceback": [
      "\u001b[0;31m---------------------------------------------------------------------------\u001b[0m",
      "\u001b[0;31mNameError\u001b[0m                                 Traceback (most recent call last)",
      "\u001b[0;32m<ipython-input-32-d9946301f91c>\u001b[0m in \u001b[0;36m<module>\u001b[0;34m\u001b[0m\n\u001b[0;32m----> 1\u001b[0;31m \u001b[0mnew_frame\u001b[0m\u001b[0;34m[\u001b[0m\u001b[0;34m'issuing_agency_name'\u001b[0m\u001b[0;34m]\u001b[0m \u001b[0;34m=\u001b[0m \u001b[0;34m[\u001b[0m\u001b[0;34m'UNITED STATES CAPITOL POLICE'\u001b[0m\u001b[0;34m,\u001b[0m\u001b[0;34m'DEPARTMENT OF PUBLIC WORKS'\u001b[0m\u001b[0;34m,\u001b[0m\u001b[0;34m'METROPOLITAN POLICE DPT-DISTRICT 7'\u001b[0m\u001b[0;34m,\u001b[0m\u001b[0;34m'METROPOLITAN POLICE DPT-DISTRICT 6'\u001b[0m\u001b[0;34m,\u001b[0m\u001b[0;34m'METROPOLITAN DISTRICT 2'\u001b[0m\u001b[0;34m,\u001b[0m\u001b[0;34m'DDOT'\u001b[0m\u001b[0;34m,\u001b[0m\u001b[0;34m'D.C. HOUSING AUTHORITY'\u001b[0m\u001b[0;34m,\u001b[0m\u001b[0;34m'METROPOLITAN POLICE DPT-DISTRICT 3'\u001b[0m\u001b[0;34m,\u001b[0m\u001b[0;34m'METROPOLITAN POLICE DPT-DISTRICT 5'\u001b[0m\u001b[0;34m,\u001b[0m\u001b[0;34m'METROPOLITAN POLICE DPT-DISTRICT 4'\u001b[0m\u001b[0;34m,\u001b[0m\u001b[0;34m'SPECIAL OPERATION DIV & TRAFFIC DIV'\u001b[0m\u001b[0;34m,\u001b[0m\u001b[0;34m'METROPOLITAN POLICE DPT-DISTRICT 1'\u001b[0m\u001b[0;34m,\u001b[0m\u001b[0;34m'METRO POLICE'\u001b[0m\u001b[0;34m,\u001b[0m\u001b[0;34m'PROTECTIVE SERVICES DEPT (DC GOVT)'\u001b[0m\u001b[0;34m,\u001b[0m \u001b[0;34m'UNITED STATES PARK POLICE'\u001b[0m\u001b[0;34m]\u001b[0m\u001b[0;34m\u001b[0m\u001b[0;34m\u001b[0m\u001b[0m\n\u001b[0m",
      "\u001b[0;31mNameError\u001b[0m: name 'new_frame' is not defined"
     ]
    }
   ],
   "source": [
    "new_frame['issuing_agency_name'] = ['UNITED STATES CAPITOL POLICE','DEPARTMENT OF PUBLIC WORKS','METROPOLITAN POLICE DPT-DISTRICT 7','METROPOLITAN POLICE DPT-DISTRICT 6','METROPOLITAN DISTRICT 2','DDOT','D.C. HOUSING AUTHORITY','METROPOLITAN POLICE DPT-DISTRICT 3','METROPOLITAN POLICE DPT-DISTRICT 5','METROPOLITAN POLICE DPT-DISTRICT 4','SPECIAL OPERATION DIV & TRAFFIC DIV','METROPOLITAN POLICE DPT-DISTRICT 1','METRO POLICE','PROTECTIVE SERVICES DEPT (DC GOVT)', 'UNITED STATES PARK POLICE']"
   ]
  },
  {
   "cell_type": "code",
   "execution_count": null,
   "metadata": {},
   "outputs": [],
   "source": [
    "top_15_dismiss.sort_values()"
   ]
  },
  {
   "cell_type": "code",
   "execution_count": null,
   "metadata": {},
   "outputs": [],
   "source": [
    "new_frame['dismissal rate'] = [.16166,.163935,.252953,0.258295,0.278457,0.330524,0.341538,0.354509,0.368553,0.399967,0.406587,0.409411,0.589526,0.630282,0.681634]"
   ]
  },
  {
   "cell_type": "code",
   "execution_count": null,
   "metadata": {},
   "outputs": [],
   "source": [
    "strict_agencies = new_frame.head(5)"
   ]
  },
  {
   "cell_type": "code",
   "execution_count": null,
   "metadata": {},
   "outputs": [],
   "source": [
    "lenient_agencies = new_frame.tail(3)"
   ]
  },
  {
   "cell_type": "code",
   "execution_count": null,
   "metadata": {},
   "outputs": [],
   "source": [
    "# Size\n",
    "plt.figure(figsize = (15, 10))\n",
    "\n",
    "# Bar chart\n",
    "plt.bar(strict_agencies['issuing_agency_name'],\n",
    "        strict_agencies['dismissal rate'])\n",
    "\n",
    "# Create a descriptive title\n",
    "plt.title('Most strict agencies and their ticket dismissal rates')\n",
    "# Rotate text\n",
    "plt.xticks(rotation = 50)\n",
    "# Add axis labels\n",
    "plt.xlabel('Issuing Agency')\n",
    "plt.ylabel('Dismissal Rate'); # semicolon suppresses text output\n",
    "\n",
    "plt.savefig('Strict.png')"
   ]
  },
  {
   "cell_type": "code",
   "execution_count": null,
   "metadata": {},
   "outputs": [],
   "source": [
    "# Size\n",
    "plt.figure(figsize = (15, 10))\n",
    "\n",
    "# Bar chart\n",
    "plt.bar(lenient_agencies['issuing_agency_name'],\n",
    "        lenient_agencies['dismissal rate'])\n",
    "\n",
    "# Create a descriptive title\n",
    "plt.title('Most lenient agencies and their ticket dismissal rates')\n",
    "# Rotate text\n",
    "plt.xticks(rotation = 50)\n",
    "# Add axis labels\n",
    "plt.xlabel('Issuing Agency')\n",
    "plt.ylabel('Dismissal Rate'); # semicolon suppresses text output\n",
    "\n",
    "plt.savefig('Lenient.png')"
   ]
  },
  {
   "cell_type": "code",
   "execution_count": null,
   "metadata": {},
   "outputs": [],
   "source": [
    "new_frame['issuing_agency_name'] = ['US CAPITOL POLICE','DEP. PUBLIC WORKS','METROPOL DIST 7','METROPOL DIST 6','METROPOL DIST 2','DDOT','D.C. HOUS. AUTHOR.','METROPOL DIST 3','METROPOL DIST 5','METROPOL DIST 4','SPECOPS DIV','METROPOL DIST 1','METRO POLICE','PROT. SERV. DEPT','US PARK POLICE']"
   ]
  },
  {
   "cell_type": "code",
   "execution_count": null,
   "metadata": {},
   "outputs": [],
   "source": [
    "new_frame"
   ]
  },
  {
   "cell_type": "code",
   "execution_count": null,
   "metadata": {},
   "outputs": [],
   "source": [
    "# Size\n",
    "plt.figure(figsize = (20, 10))\n",
    "\n",
    "# Bar chart\n",
    "plt.bar(new_frame['issuing_agency_name'],\n",
    "        new_frame['dismissal rate'])\n",
    "\n",
    "# Create a descriptive title\n",
    "plt.title('Top 15 ticketing agencies and their ticket dismissal rates')\n",
    "# Rotate text\n",
    "plt.xticks(rotation = 50)\n",
    "# Add axis labels\n",
    "plt.xlabel('Issuing Agency')\n",
    "plt.ylabel('Dismissal Rate'); # semicolon suppresses text output\n",
    "\n",
    "plt.savefig('Top_15.png')"
   ]
  },
  {
   "cell_type": "code",
   "execution_count": null,
   "metadata": {},
   "outputs": [],
   "source": [
    "full_dismissed = tickets.groupby(by='issuing_agency_name')['disposition_type'].value_counts(normalize=True)[[0,3,5,6,9,11,13,14,17,20,23,24,26,28,30,31,33,36,38,40,42,44,46,48,50,52,55,58,61,62,66,68,70,71,74,75,78,79,81,83,86,87,89,91]]"
   ]
  },
  {
   "cell_type": "code",
   "execution_count": null,
   "metadata": {},
   "outputs": [],
   "source": [
    "len(full_dismissed)"
   ]
  },
  {
   "cell_type": "code",
   "execution_count": null,
   "metadata": {},
   "outputs": [],
   "source": [
    "2530465/len(tickets['issuing_agency_name'])"
   ]
  },
  {
   "cell_type": "code",
   "execution_count": null,
   "metadata": {},
   "outputs": [],
   "source": [
    "tickets['issuing_agency_name'].value_counts()"
   ]
  },
  {
   "cell_type": "code",
   "execution_count": null,
   "metadata": {},
   "outputs": [],
   "source": [
    "tickets.loc[tickets['issuing_agency_name']=='OFFICE OF PROFESSIONAL RESPONSIBLTY']['violation_proc_desc'].value_counts()"
   ]
  },
  {
   "cell_type": "code",
   "execution_count": null,
   "metadata": {},
   "outputs": [],
   "source": [
    "tickets.loc[tickets['issuing_agency_name']=='YOUTH DIVISION']['violation_proc_desc'].value_counts()"
   ]
  },
  {
   "cell_type": "code",
   "execution_count": null,
   "metadata": {},
   "outputs": [],
   "source": [
    "tickets.loc[tickets['issuing_agency_name']=='U.S. NATIONAL ZOOLOGICAL POLICE']['violation_proc_desc'].value_counts()"
   ]
  },
  {
   "cell_type": "code",
   "execution_count": null,
   "metadata": {},
   "outputs": [],
   "source": [
    "tickets.loc[tickets['issuing_agency_name']=='DEPARTMENT OF PUBLIC WORKS']"
   ]
  },
  {
   "cell_type": "code",
   "execution_count": null,
   "metadata": {},
   "outputs": [],
   "source": [
    "public_works = tickets.loc[tickets['issuing_agency_name']=='DEPARTMENT OF PUBLIC WORKS']"
   ]
  },
  {
   "cell_type": "code",
   "execution_count": null,
   "metadata": {},
   "outputs": [],
   "source": [
    "public_works['violation_proc_desc'].value_counts().head(30)"
   ]
  },
  {
   "cell_type": "code",
   "execution_count": null,
   "metadata": {},
   "outputs": [],
   "source": [
    "tickets['issuing_agency_name'].value_counts()"
   ]
  },
  {
   "cell_type": "code",
   "execution_count": null,
   "metadata": {},
   "outputs": [],
   "source": [
    "disposition_prop = tickets.groupby(by=['issuing_agency_name'])['disposition_type'].value_counts(normalize=True)"
   ]
  },
  {
   "cell_type": "code",
   "execution_count": null,
   "metadata": {},
   "outputs": [],
   "source": [
    "dispo_prop_df = pd.DataFrame(disposition_prop)"
   ]
  },
  {
   "cell_type": "code",
   "execution_count": null,
   "metadata": {},
   "outputs": [],
   "source": [
    "np.arange(0,,5)"
   ]
  },
  {
   "cell_type": "code",
   "execution_count": null,
   "metadata": {},
   "outputs": [],
   "source": [
    "agency_df = pd.DataFrame(tickets.groupby(by=['issuing_agency_name'])['disposition_type'].value_counts(normalize=True))"
   ]
  },
  {
   "cell_type": "code",
   "execution_count": null,
   "metadata": {},
   "outputs": [],
   "source": [
    "agency_df.loc['disposition_type':'Dismissed']"
   ]
  },
  {
   "cell_type": "code",
   "execution_count": null,
   "metadata": {},
   "outputs": [],
   "source": []
  },
  {
   "cell_type": "code",
   "execution_count": null,
   "metadata": {},
   "outputs": [],
   "source": [
    "tick = tickets.groupby('issuing_agency_name')['disposition_type'].value_counts(normalize=True)\n",
    "# [citations_df[citations_df['disposition_type'] == 'Dismissed']]"
   ]
  },
  {
   "cell_type": "code",
   "execution_count": null,
   "metadata": {},
   "outputs": [],
   "source": [
    "tick"
   ]
  },
  {
   "cell_type": "code",
   "execution_count": null,
   "metadata": {},
   "outputs": [],
   "source": [
    "disposition_prop[[0,5,9,13,17,24,29,34,39,35,39,42,47,51,55,59,63,67,71,75,79,83,87,91,95,99,207]]"
   ]
  },
  {
   "cell_type": "code",
   "execution_count": null,
   "metadata": {},
   "outputs": [],
   "source": []
  },
  {
   "cell_type": "code",
   "execution_count": null,
   "metadata": {},
   "outputs": [],
   "source": [
    "tickets.groupby(by=['issuing_agency_name'])['disposition_type'].value_counts(normalize=True)['METROPOLITAN POLICE DPT-DISTRICT 1']"
   ]
  },
  {
   "cell_type": "code",
   "execution_count": null,
   "metadata": {},
   "outputs": [],
   "source": [
    "tickets.groupby(by=['issuing_agency_name'])['disposition_type'].value_counts(normalize=True)['METROPOLITAN POLICE DPT-DISTRICT 2']"
   ]
  },
  {
   "cell_type": "code",
   "execution_count": null,
   "metadata": {},
   "outputs": [],
   "source": [
    "tickets.groupby(by=['issuing_agency_name'])['disposition_type'].value_counts(normalize=True)['METROPOLITAN POLICE DPT-DISTRICT 3']"
   ]
  },
  {
   "cell_type": "code",
   "execution_count": null,
   "metadata": {},
   "outputs": [],
   "source": [
    "tickets.groupby(by=['issuing_agency_name'])['disposition_type'].value_counts(normalize=True)['METROPOLITAN POLICE DPT-DISTRICT 4']"
   ]
  },
  {
   "cell_type": "code",
   "execution_count": null,
   "metadata": {},
   "outputs": [],
   "source": [
    "tickets.groupby(by=['issuing_agency_name'])['disposition_type'].value_counts(normalize=True)['METROPOLITAN POLICE DPT-DISTRICT 5']"
   ]
  },
  {
   "cell_type": "code",
   "execution_count": null,
   "metadata": {},
   "outputs": [],
   "source": [
    "tickets.groupby(by=['issuing_agency_name'])['disposition_type'].value_counts(normalize=True)['METROPOLITAN POLICE DPT-DISTRICT 6']"
   ]
  },
  {
   "cell_type": "code",
   "execution_count": null,
   "metadata": {},
   "outputs": [],
   "source": [
    "tickets.groupby(by=['issuing_agency_name'])['disposition_type'].value_counts(normalize=True)['METROPOLITAN POLICE DPT-DISTRICT 7']"
   ]
  },
  {
   "cell_type": "code",
   "execution_count": null,
   "metadata": {},
   "outputs": [],
   "source": [
    "tickets.groupby(by=['issuing_agency_name'])['fine_amount'].mean().sort_values(ascending=False)"
   ]
  },
  {
   "cell_type": "code",
   "execution_count": null,
   "metadata": {},
   "outputs": [],
   "source": []
  },
  {
   "cell_type": "code",
   "execution_count": null,
   "metadata": {},
   "outputs": [],
   "source": []
  }
 ],
 "metadata": {
  "kernelspec": {
   "display_name": "Python 3",
   "language": "python",
   "name": "python3"
  },
  "language_info": {
   "codemirror_mode": {
    "name": "ipython",
    "version": 3
   },
   "file_extension": ".py",
   "mimetype": "text/x-python",
   "name": "python",
   "nbconvert_exporter": "python",
   "pygments_lexer": "ipython3",
   "version": "3.8.5"
  }
 },
 "nbformat": 4,
 "nbformat_minor": 4
}
