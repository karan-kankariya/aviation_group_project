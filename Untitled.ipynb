{
 "cells": [
  {
   "cell_type": "code",
   "execution_count": 2,
   "metadata": {},
   "outputs": [],
   "source": [
    "import pandas as pd\n",
    "import glob"
   ]
  },
  {
   "cell_type": "code",
   "execution_count": 3,
   "metadata": {},
   "outputs": [],
   "source": [
    "def get_dataframe(path):\n",
    "    all_files = glob.glob(path + \"/*.csv\")\n",
    "    li = []\n",
    "    for filename in all_files:\n",
    "        df = pd.read_csv(filename, index_col=None, header=0)\n",
    "        li.append(df)\n",
    "    frame = pd.concat(li, axis=0, ignore_index=True)\n",
    "    return frame"
   ]
  },
  {
   "cell_type": "code",
   "execution_count": 4,
   "metadata": {},
   "outputs": [
    {
     "name": "stderr",
     "output_type": "stream",
     "text": [
      "/Users/reedhuston/opt/anaconda3/lib/python3.8/site-packages/IPython/core/interactiveshell.py:3357: DtypeWarning: Columns (11) have mixed types.Specify dtype option on import or set low_memory=False.\n",
      "  if (await self.run_code(code, result,  async_=asy)):\n"
     ]
    }
   ],
   "source": [
    "My_months = get_dataframe('./Data')"
   ]
  },
  {
   "cell_type": "code",
   "execution_count": 5,
   "metadata": {},
   "outputs": [
    {
     "data": {
      "text/plain": [
       "Index(['OBJECTID', 'TICKET_NUMBER', 'ISSUE_DATE', 'ISSUE_TIME',\n",
       "       'ISSUING_AGENCY_CODE', 'ISSUING_AGENCY_NAME', 'ISSUING_AGENCY_SHORT',\n",
       "       'VIOLATION_CODE', 'VIOLATION_PROC_DESC', 'LOCATION', 'PLATE_STATE',\n",
       "       'VEHICLE_TYPE', 'MULTI_OWNER_NUMBER', 'DISPOSITION_CODE',\n",
       "       'DISPOSITION_TYPE', 'DISPOSITION_DESC', 'DISPOSITION_DATE',\n",
       "       'FINE_AMOUNT', 'TOTAL_PAID', 'PENALTY_1', 'PENALTY_2', 'PENALTY_3',\n",
       "       'PENALTY_4', 'PENALTY_5', 'XCOORD', 'YCOORD', 'LATITUDE', 'LONGITUDE',\n",
       "       'MAR_ID', 'GIS_LAST_MOD_DTTM', 'objectid', 'issuing_agency_code',\n",
       "       'issuing_agency_name', 'issuing_agency_short', 'violation_code',\n",
       "       'violation_proc_desc', 'location', 'disposition_type', 'fine_amount',\n",
       "       'total_paid', 'xcoord', 'ycoord', 'latitude', 'longitude', 'year',\n",
       "       'month', 'date', 'day', 'hour', 'minute'],\n",
       "      dtype='object')"
      ]
     },
     "execution_count": 5,
     "metadata": {},
     "output_type": "execute_result"
    }
   ],
   "source": [
    "My_months.columns"
   ]
  },
  {
   "cell_type": "code",
   "execution_count": 6,
   "metadata": {},
   "outputs": [
    {
     "data": {
      "text/plain": [
       "OBJECTID                2669807\n",
       "TICKET_NUMBER           2669807\n",
       "ISSUE_DATE              2669807\n",
       "ISSUE_TIME              2670295\n",
       "ISSUING_AGENCY_CODE     2669912\n",
       "ISSUING_AGENCY_NAME     2669912\n",
       "ISSUING_AGENCY_SHORT    2669912\n",
       "VIOLATION_CODE          2669807\n",
       "VIOLATION_PROC_DESC     2692642\n",
       "LOCATION                2669898\n",
       "PLATE_STATE             2669807\n",
       "VEHICLE_TYPE            3395095\n",
       "MULTI_OWNER_NUMBER      3358147\n",
       "DISPOSITION_CODE        3102773\n",
       "DISPOSITION_TYPE        2669807\n",
       "DISPOSITION_DESC        3102773\n",
       "DISPOSITION_DATE        3102773\n",
       "FINE_AMOUNT             2693428\n",
       "TOTAL_PAID              2669807\n",
       "PENALTY_1               3112427\n",
       "PENALTY_2               3395096\n",
       "PENALTY_3               3253323\n",
       "PENALTY_4               3394954\n",
       "PENALTY_5               3395096\n",
       "XCOORD                  2693220\n",
       "YCOORD                  2693220\n",
       "LATITUDE                2693220\n",
       "LONGITUDE               2693220\n",
       "MAR_ID                  2693220\n",
       "GIS_LAST_MOD_DTTM       2669807\n",
       "objectid                 725289\n",
       "issuing_agency_code      725289\n",
       "issuing_agency_name      725289\n",
       "issuing_agency_short     725289\n",
       "violation_code           725289\n",
       "violation_proc_desc      725289\n",
       "location                 725289\n",
       "disposition_type         725289\n",
       "fine_amount              725289\n",
       "total_paid               725289\n",
       "xcoord                   725289\n",
       "ycoord                   725289\n",
       "latitude                 725289\n",
       "longitude                725289\n",
       "year                     725289\n",
       "month                    725289\n",
       "date                     725289\n",
       "day                      725289\n",
       "hour                     725289\n",
       "minute                   725289\n",
       "dtype: int64"
      ]
     },
     "execution_count": 6,
     "metadata": {},
     "output_type": "execute_result"
    }
   ],
   "source": [
    "My_months.isnull().sum()"
   ]
  },
  {
   "cell_type": "code",
   "execution_count": 7,
   "metadata": {},
   "outputs": [],
   "source": [
    "My_months.drop(columns=['DISPOSITION_CODE','DISPOSITION_DATE','PLATE_STATE','PENALTY_1',\n",
    "                             'PENALTY_2','PENALTY_3','PENALTY_4','PENALTY_5',\n",
    "                             'VEHICLE_TYPE','MULTI_OWNER_NUMBER','DISPOSITION_DESC',\n",
    "                            'TICKET_NUMBER'],inplace=True)"
   ]
  },
  {
   "cell_type": "code",
   "execution_count": 8,
   "metadata": {},
   "outputs": [],
   "source": [
    "#lowercase column names\n",
    "My_months.columns = map(str.lower, My_months.columns)"
   ]
  },
  {
   "cell_type": "code",
   "execution_count": 9,
   "metadata": {},
   "outputs": [],
   "source": [
    "#drop issue_time nulls\n",
    "My_months = My_months[My_months['issue_time'].notna()]\n",
    "#drop issue_time rows that don't have proper format\n",
    "My_months = My_months[My_months['issue_time'].str.len()==8]"
   ]
  },
  {
   "cell_type": "code",
   "execution_count": 10,
   "metadata": {},
   "outputs": [
    {
     "data": {
      "text/plain": [
       "0    2018/02/20\n",
       "1    2018/02/20\n",
       "2    2018/02/20\n",
       "3    2018/02/20\n",
       "4    2018/02/20\n",
       "Name: issue_date, dtype: object"
      ]
     },
     "execution_count": 10,
     "metadata": {},
     "output_type": "execute_result"
    }
   ],
   "source": [
    "#remove characters after space in issue date\n",
    "My_months['issue_date'] = My_months['issue_date'].str.split().str[0]\n",
    "My_months['issue_date'].head()"
   ]
  },
  {
   "cell_type": "code",
   "execution_count": 11,
   "metadata": {},
   "outputs": [
    {
     "data": {
      "text/plain": [
       "0    2018/02/20 04:11 PM\n",
       "1    2018/02/20 10:00 AM\n",
       "Name: issue_datetime, dtype: object"
      ]
     },
     "execution_count": 11,
     "metadata": {},
     "output_type": "execute_result"
    }
   ],
   "source": [
    "#create new column date plus time\n",
    "My_months['issue_datetime']= My_months['issue_date']+' '+My_months['issue_time']\n",
    "My_months['issue_datetime'].head(2)"
   ]
  },
  {
   "cell_type": "code",
   "execution_count": 12,
   "metadata": {},
   "outputs": [
    {
     "data": {
      "text/plain": [
       "0   2018-02-20 16:11:00\n",
       "Name: issue_datetime, dtype: datetime64[ns]"
      ]
     },
     "execution_count": 12,
     "metadata": {},
     "output_type": "execute_result"
    }
   ],
   "source": [
    "#convert to date time format\n",
    "My_months['issue_datetime'] = My_months['issue_datetime'].astype('datetime64[ns]')\n",
    "My_months['issue_datetime'].head(1)"
   ]
  },
  {
   "cell_type": "code",
   "execution_count": 13,
   "metadata": {},
   "outputs": [],
   "source": [
    "#add columns for year, month, date, dayofweek, hour, minute\n",
    "My_months['year'] = My_months['issue_datetime'].dt.year\n",
    "My_months['month'] = My_months['issue_datetime'].dt.month\n",
    "My_months['date'] = My_months['issue_datetime'].dt.day\n",
    "My_months['day'] = My_months['issue_datetime'].dt.dayofweek\n",
    "My_months['hour'] = My_months['issue_datetime'].dt.hour\n",
    "My_months['minute'] = My_months['issue_datetime'].dt.minute"
   ]
  },
  {
   "cell_type": "code",
   "execution_count": 14,
   "metadata": {},
   "outputs": [],
   "source": [
    "#drop unused columns\n",
    "My_months.drop(columns=['issue_date','issue_time','issue_datetime'],inplace=True)"
   ]
  },
  {
   "cell_type": "code",
   "execution_count": 15,
   "metadata": {},
   "outputs": [],
   "source": [
    "My_months.dropna(subset=['xcoord'],inplace=True)"
   ]
  },
  {
   "cell_type": "code",
   "execution_count": 16,
   "metadata": {},
   "outputs": [],
   "source": [
    "My_months.drop(columns='mar_id',inplace=True)"
   ]
  },
  {
   "cell_type": "code",
   "execution_count": 17,
   "metadata": {},
   "outputs": [],
   "source": [
    "My_months.drop(columns='gis_last_mod_dttm',inplace=True)"
   ]
  },
  {
   "cell_type": "code",
   "execution_count": 18,
   "metadata": {},
   "outputs": [],
   "source": [
    "My_months.dropna(subset=['fine_amount'],inplace=True)"
   ]
  },
  {
   "cell_type": "code",
   "execution_count": 19,
   "metadata": {},
   "outputs": [],
   "source": [
    "My_months.to_csv('My_months.csv',index=False)"
   ]
  },
  {
   "cell_type": "code",
   "execution_count": 20,
   "metadata": {},
   "outputs": [
    {
     "data": {
      "text/plain": [
       "objectid                0\n",
       "issuing_agency_code     0\n",
       "issuing_agency_name     0\n",
       "issuing_agency_short    0\n",
       "violation_code          0\n",
       "violation_proc_desc     0\n",
       "location                0\n",
       "disposition_type        0\n",
       "fine_amount             0\n",
       "total_paid              0\n",
       "xcoord                  0\n",
       "ycoord                  0\n",
       "latitude                0\n",
       "longitude               0\n",
       "objectid                0\n",
       "issuing_agency_code     0\n",
       "issuing_agency_name     0\n",
       "issuing_agency_short    0\n",
       "violation_code          0\n",
       "violation_proc_desc     0\n",
       "location                0\n",
       "disposition_type        0\n",
       "fine_amount             0\n",
       "total_paid              0\n",
       "xcoord                  0\n",
       "ycoord                  0\n",
       "latitude                0\n",
       "longitude               0\n",
       "year                    0\n",
       "month                   0\n",
       "date                    0\n",
       "day                     0\n",
       "hour                    0\n",
       "minute                  0\n",
       "dtype: int64"
      ]
     },
     "execution_count": 20,
     "metadata": {},
     "output_type": "execute_result"
    }
   ],
   "source": [
    "My_months.isnull().sum()"
   ]
  },
  {
   "cell_type": "code",
   "execution_count": 21,
   "metadata": {},
   "outputs": [
    {
     "data": {
      "text/plain": [
       "{'disposition_type'}"
      ]
     },
     "execution_count": 21,
     "metadata": {},
     "output_type": "execute_result"
    }
   ],
   "source": [
    "set(My_months['disposition_type'])"
   ]
  },
  {
   "cell_type": "code",
   "execution_count": 22,
   "metadata": {},
   "outputs": [],
   "source": [
    "tickets = pd.read_csv('./Data/total.csv')"
   ]
  },
  {
   "cell_type": "code",
   "execution_count": 23,
   "metadata": {},
   "outputs": [
    {
     "data": {
      "text/html": [
       "<div>\n",
       "<style scoped>\n",
       "    .dataframe tbody tr th:only-of-type {\n",
       "        vertical-align: middle;\n",
       "    }\n",
       "\n",
       "    .dataframe tbody tr th {\n",
       "        vertical-align: top;\n",
       "    }\n",
       "\n",
       "    .dataframe thead th {\n",
       "        text-align: right;\n",
       "    }\n",
       "</style>\n",
       "<table border=\"1\" class=\"dataframe\">\n",
       "  <thead>\n",
       "    <tr style=\"text-align: right;\">\n",
       "      <th></th>\n",
       "      <th>objectid</th>\n",
       "      <th>issuing_agency_code</th>\n",
       "      <th>issuing_agency_name</th>\n",
       "      <th>issuing_agency_short</th>\n",
       "      <th>violation_code</th>\n",
       "      <th>violation_proc_desc</th>\n",
       "      <th>location</th>\n",
       "      <th>disposition_type</th>\n",
       "      <th>fine_amount</th>\n",
       "      <th>total_paid</th>\n",
       "      <th>xcoord</th>\n",
       "      <th>ycoord</th>\n",
       "      <th>latitude</th>\n",
       "      <th>longitude</th>\n",
       "      <th>year</th>\n",
       "      <th>month</th>\n",
       "      <th>date</th>\n",
       "      <th>day</th>\n",
       "      <th>hour</th>\n",
       "      <th>minute</th>\n",
       "    </tr>\n",
       "  </thead>\n",
       "  <tbody>\n",
       "    <tr>\n",
       "      <th>0</th>\n",
       "      <td>60327097</td>\n",
       "      <td>80.0</td>\n",
       "      <td>AMTRAK</td>\n",
       "      <td>AMTRK</td>\n",
       "      <td>P170</td>\n",
       "      <td>FAILURE TO DISPLAY CURRENT TAGS</td>\n",
       "      <td>900 2ND ST NE</td>\n",
       "      <td>Dismissed</td>\n",
       "      <td>100.0</td>\n",
       "      <td>0</td>\n",
       "      <td>399661.0</td>\n",
       "      <td>137013.0</td>\n",
       "      <td>38.901</td>\n",
       "      <td>-77.004</td>\n",
       "      <td>2017</td>\n",
       "      <td>9</td>\n",
       "      <td>5</td>\n",
       "      <td>1</td>\n",
       "      <td>11</td>\n",
       "      <td>30</td>\n",
       "    </tr>\n",
       "    <tr>\n",
       "      <th>1</th>\n",
       "      <td>60345241</td>\n",
       "      <td>57.0</td>\n",
       "      <td>METRO POLICE</td>\n",
       "      <td>MTP</td>\n",
       "      <td>P039</td>\n",
       "      <td>PARK AT EXPIRED METER</td>\n",
       "      <td>1290 ALBAMA AVE SE</td>\n",
       "      <td>Liable - System</td>\n",
       "      <td>25.0</td>\n",
       "      <td>60</td>\n",
       "      <td>401049.0</td>\n",
       "      <td>130794.0</td>\n",
       "      <td>38.845</td>\n",
       "      <td>-76.988</td>\n",
       "      <td>2017</td>\n",
       "      <td>9</td>\n",
       "      <td>26</td>\n",
       "      <td>1</td>\n",
       "      <td>10</td>\n",
       "      <td>35</td>\n",
       "    </tr>\n",
       "    <tr>\n",
       "      <th>2</th>\n",
       "      <td>60345242</td>\n",
       "      <td>57.0</td>\n",
       "      <td>METRO POLICE</td>\n",
       "      <td>MTP</td>\n",
       "      <td>P039</td>\n",
       "      <td>PARK AT EXPIRED METER</td>\n",
       "      <td>1290 ALABAMA AV SE</td>\n",
       "      <td>Liable - System</td>\n",
       "      <td>25.0</td>\n",
       "      <td>60</td>\n",
       "      <td>401049.0</td>\n",
       "      <td>130794.0</td>\n",
       "      <td>38.845</td>\n",
       "      <td>-76.988</td>\n",
       "      <td>2017</td>\n",
       "      <td>9</td>\n",
       "      <td>26</td>\n",
       "      <td>1</td>\n",
       "      <td>11</td>\n",
       "      <td>35</td>\n",
       "    </tr>\n",
       "  </tbody>\n",
       "</table>\n",
       "</div>"
      ],
      "text/plain": [
       "   objectid  issuing_agency_code issuing_agency_name issuing_agency_short  \\\n",
       "0  60327097                 80.0              AMTRAK                AMTRK   \n",
       "1  60345241                 57.0        METRO POLICE                  MTP   \n",
       "2  60345242                 57.0        METRO POLICE                  MTP   \n",
       "\n",
       "  violation_code              violation_proc_desc            location  \\\n",
       "0           P170  FAILURE TO DISPLAY CURRENT TAGS       900 2ND ST NE   \n",
       "1           P039            PARK AT EXPIRED METER  1290 ALBAMA AVE SE   \n",
       "2           P039            PARK AT EXPIRED METER  1290 ALABAMA AV SE   \n",
       "\n",
       "  disposition_type  fine_amount  total_paid    xcoord    ycoord  latitude  \\\n",
       "0        Dismissed        100.0           0  399661.0  137013.0    38.901   \n",
       "1  Liable - System         25.0          60  401049.0  130794.0    38.845   \n",
       "2  Liable - System         25.0          60  401049.0  130794.0    38.845   \n",
       "\n",
       "   longitude  year  month  date  day  hour  minute  \n",
       "0    -77.004  2017      9     5    1    11      30  \n",
       "1    -76.988  2017      9    26    1    10      35  \n",
       "2    -76.988  2017      9    26    1    11      35  "
      ]
     },
     "execution_count": 23,
     "metadata": {},
     "output_type": "execute_result"
    }
   ],
   "source": [
    "tickets.head(3)"
   ]
  },
  {
   "cell_type": "code",
   "execution_count": 42,
   "metadata": {},
   "outputs": [
    {
     "data": {
      "text/plain": [
       "0.9478082123539268"
      ]
     },
     "execution_count": 42,
     "metadata": {},
     "output_type": "execute_result"
    }
   ],
   "source": [
    "2530465/len(tickets['issuing_agency_name'])"
   ]
  },
  {
   "cell_type": "code",
   "execution_count": 44,
   "metadata": {},
   "outputs": [],
   "source": [
    "public_works = tickets.loc[tickets['issuing_agency_name']=='DEPARTMENT OF PUBLIC WORKS']"
   ]
  },
  {
   "cell_type": "code",
   "execution_count": 58,
   "metadata": {},
   "outputs": [
    {
     "data": {
      "text/plain": [
       "FAIL TO DISPLAY A MULTISPACE METER RECEIPT          327698\n",
       "PARK AT EXPIRED METER                               268956\n",
       "RESIDENTIAL PERMIT PKING BEYOND LIMIT W/O PERMIT    211361\n",
       "DISOBEYING OFFICIAL SIGN                            177133\n",
       "NO PARKING STREET CLEANING                          169680\n",
       "FAILURE TO DISPLAY CURRENT TAGS                     126310\n",
       "NO STOPPING OR STANDING IN PM RUSH HOUR ZONE        117061\n",
       "NO PARKING ANYTIME                                   88172\n",
       "UNAUTHORIZED VEHICLE IN LOADING ZONE                 74078\n",
       "NO STANDING ANYTIME                                  73155\n",
       "FAILURE TO SECURE DC TAGS                            65264\n",
       "PARK OVERTIME AT A METER                             64546\n",
       "NO STOPPING OR STANDING IN AM RUSH HOUR ZONE         59630\n",
       "NO FRONT TAGS.                                       53267\n",
       "PARKED WITHIN 25 FEET OF A STOP SIGN                 43924\n",
       "RELOCATE TOW FEE                                     42870\n",
       "PARK OVERTIME IN TIMED ZONE                          42258\n",
       "EXPIRATION TIME ON METER RECEIPT LAPSED              41289\n",
       "FAIL TO DISPLAY CURRENT INSPECTION STICKER           39785\n",
       "STAND OR PARK IN ALLEY                               33763\n",
       "Name: violation_proc_desc, dtype: int64"
      ]
     },
     "execution_count": 58,
     "metadata": {},
     "output_type": "execute_result"
    }
   ],
   "source": [
    "public_works['violation_proc_desc'].value_counts().head(20)"
   ]
  },
  {
   "cell_type": "code",
   "execution_count": 69,
   "metadata": {},
   "outputs": [
    {
     "data": {
      "text/plain": [
       "DEPARTMENT OF PUBLIC WORKS             2530465\n",
       "METROPOLITAN POLICE DPT-DISTRICT 2       28542\n",
       "METROPOLITAN POLICE DPT-DISTRICT 1       15163\n",
       "METROPOLITAN POLICE DPT-DISTRICT 3       13635\n",
       "METROPOLITAN POLICE DPT-DISTRICT 4       11883\n",
       "DDOT                                     11497\n",
       "METRO POLICE                              8359\n",
       "METROPOLITAN POLICE DPT-DISTRICT 7        7764\n",
       "METROPOLITAN POLICE DPT-DISTRICT 5        6663\n",
       "METROPOLITAN POLICE DPT-DISTRICT 6        5821\n",
       "UNITED STATES CAPITOL POLICE              5586\n",
       "UNITED STATES PARK POLICE                 4743\n",
       "SPECIAL OPERATION DIV & TRAFFIC DIV       4486\n",
       "D.C. HOUSING AUTHORITY                    4412\n",
       "TAXI COMMISSION                           2250\n",
       "US. SECRET SERVICE UNIFORM DIVISION       1750\n",
       "PROTECTIVE SERVICES DEPT (DC GOVT)        1650\n",
       "FEDERAL PROTECTIVE SERVICES (US GV)        744\n",
       "COMMAND INFORMATION CENTER                 575\n",
       "BOLLING AFB                                519\n",
       "UNVRSTY OF THE D.C. SECURITY POLICE        517\n",
       "MPD RESERVE CORPS                          462\n",
       "YOUTH DIVISION                             429\n",
       "DPT. OF GENERAL SERVICES GUARDS            389\n",
       "FBI                                        332\n",
       "OTHER                                      282\n",
       "SPECIAL INSPECTION DIVISION                193\n",
       "TRAINING DIVISION                          141\n",
       "OFFICE OF PROFESSIONAL RESPONSIBLTY        111\n",
       "US. BUREAU OF ENGRAVING AND PRINTNG         96\n",
       "US. GOVERNMENT PRINTING OFFICE              72\n",
       "U.S. SUPREME COURT POLICE                   62\n",
       "U.S. NATIONAL ZOOLOGICAL POLICE             46\n",
       "METRO POLICE DPT-PROPERTY DIVISION          32\n",
       "PATROL SERVICES BUREAU                      26\n",
       "FORENSICS                                   25\n",
       "CRIMINAL INVESTIGATION DIVISION             18\n",
       "AMTRAK                                      17\n",
       "US STATE DEPARTMENT                         16\n",
       "EXECUTIVE PROTECTION UNIT                    6\n",
       "OPERATIONS COMMAND                           4\n",
       "INVESTIGATIVE SERVICES BUREAU                2\n",
       "EVIDENCE CONTROL                             2\n",
       "INVESTIGATIVE SERVICES DIVISION              2\n",
       "FT MCNAIR                                    2\n",
       "OFFICE OF THE CHIEF OF POLICE                2\n",
       "SECURITIES OFFICE MANAGEMENT BRANCH          2\n",
       "MLK LIBRARY                                  2\n",
       "OFF OF FINANCE & RESOURCE MANGEMNT           1\n",
       "INSTITUTE OF POLICE SERVICES                 1\n",
       "MOBILE FORCE                                 1\n",
       "OFFICE OF ORGANIZATIONAL DEVELOPMT           1\n",
       "FACILITIES MANAGEMENT                        1\n",
       "YOUTH AND PREVENTIVE SERVICES                1\n",
       "SCHOOL SAFETY                                1\n",
       "UNITED STATES MINT                           1\n",
       "FLEET MANAGEMENT DIVISION                    1\n",
       "OFFICE OF UNIFIED COMMUNICATIONS             1\n",
       "Name: issuing_agency_name, dtype: int64"
      ]
     },
     "execution_count": 69,
     "metadata": {},
     "output_type": "execute_result"
    }
   ],
   "source": [
    "tickets['issuing_agency_name'].value_counts()"
   ]
  },
  {
   "cell_type": "code",
   "execution_count": 70,
   "metadata": {},
   "outputs": [
    {
     "data": {
      "text/plain": [
       "disposition_type\n",
       "Other              0.670078\n",
       "Liable - System    0.221857\n",
       "Dismissed          0.053757\n",
       "Liable             0.052301\n",
       "Void               0.001150\n",
       "Continued          0.000577\n",
       "Administrative     0.000280\n",
       "Name: disposition_type, dtype: float64"
      ]
     },
     "execution_count": 70,
     "metadata": {},
     "output_type": "execute_result"
    }
   ],
   "source": [
    "tickets.groupby(by=['issuing_agency_name'])['disposition_type'].value_counts(normalize=True)['DEPARTMENT OF PUBLIC WORKS']"
   ]
  },
  {
   "cell_type": "code",
   "execution_count": 72,
   "metadata": {},
   "outputs": [
    {
     "data": {
      "text/plain": [
       "disposition_type\n",
       "Other              0.513421\n",
       "Liable - System    0.239794\n",
       "Dismissed          0.199103\n",
       "Liable             0.047418\n",
       "Continued          0.000264\n",
       "Name: disposition_type, dtype: float64"
      ]
     },
     "execution_count": 72,
     "metadata": {},
     "output_type": "execute_result"
    }
   ],
   "source": [
    "tickets.groupby(by=['issuing_agency_name'])['disposition_type'].value_counts(normalize=True)['METROPOLITAN POLICE DPT-DISTRICT 1']"
   ]
  },
  {
   "cell_type": "code",
   "execution_count": 73,
   "metadata": {},
   "outputs": [
    {
     "data": {
      "text/plain": [
       "disposition_type\n",
       "Other              0.612851\n",
       "Liable - System    0.225702\n",
       "Dismissed          0.107736\n",
       "Liable             0.053465\n",
       "Administrative     0.000210\n",
       "Continued          0.000035\n",
       "Name: disposition_type, dtype: float64"
      ]
     },
     "execution_count": 73,
     "metadata": {},
     "output_type": "execute_result"
    }
   ],
   "source": [
    "tickets.groupby(by=['issuing_agency_name'])['disposition_type'].value_counts(normalize=True)['METROPOLITAN POLICE DPT-DISTRICT 2']"
   ]
  },
  {
   "cell_type": "code",
   "execution_count": 74,
   "metadata": {},
   "outputs": [
    {
     "data": {
      "text/plain": [
       "disposition_type\n",
       "Other              0.526219\n",
       "Liable - System    0.250458\n",
       "Dismissed          0.167803\n",
       "Liable             0.055079\n",
       "Continued          0.000220\n",
       "Administrative     0.000147\n",
       "Void               0.000073\n",
       "Name: disposition_type, dtype: float64"
      ]
     },
     "execution_count": 74,
     "metadata": {},
     "output_type": "execute_result"
    }
   ],
   "source": [
    "tickets.groupby(by=['issuing_agency_name'])['disposition_type'].value_counts(normalize=True)['METROPOLITAN POLICE DPT-DISTRICT 3']"
   ]
  },
  {
   "cell_type": "code",
   "execution_count": 75,
   "metadata": {},
   "outputs": [
    {
     "data": {
      "text/plain": [
       "disposition_type\n",
       "Other              0.491122\n",
       "Liable - System    0.249432\n",
       "Dismissed          0.203400\n",
       "Liable             0.055710\n",
       "Void               0.000168\n",
       "Administrative     0.000084\n",
       "Continued          0.000084\n",
       "Name: disposition_type, dtype: float64"
      ]
     },
     "execution_count": 75,
     "metadata": {},
     "output_type": "execute_result"
    }
   ],
   "source": [
    "tickets.groupby(by=['issuing_agency_name'])['disposition_type'].value_counts(normalize=True)['METROPOLITAN POLICE DPT-DISTRICT 4']"
   ]
  },
  {
   "cell_type": "code",
   "execution_count": 76,
   "metadata": {},
   "outputs": [
    {
     "data": {
      "text/plain": [
       "disposition_type\n",
       "Other              0.400120\n",
       "Liable - System    0.318775\n",
       "Dismissed          0.220922\n",
       "Liable             0.059733\n",
       "Continued          0.000300\n",
       "Administrative     0.000150\n",
       "Name: disposition_type, dtype: float64"
      ]
     },
     "execution_count": 76,
     "metadata": {},
     "output_type": "execute_result"
    }
   ],
   "source": [
    "tickets.groupby(by=['issuing_agency_name'])['disposition_type'].value_counts(normalize=True)['METROPOLITAN POLICE DPT-DISTRICT 5']"
   ]
  },
  {
   "cell_type": "code",
   "execution_count": 77,
   "metadata": {},
   "outputs": [
    {
     "data": {
      "text/plain": [
       "disposition_type\n",
       "Liable - System    0.408864\n",
       "Other              0.398557\n",
       "Dismissed          0.155128\n",
       "Liable             0.036592\n",
       "Continued          0.000687\n",
       "Administrative     0.000172\n",
       "Name: disposition_type, dtype: float64"
      ]
     },
     "execution_count": 77,
     "metadata": {},
     "output_type": "execute_result"
    }
   ],
   "source": [
    "tickets.groupby(by=['issuing_agency_name'])['disposition_type'].value_counts(normalize=True)['METROPOLITAN POLICE DPT-DISTRICT 6']"
   ]
  },
  {
   "cell_type": "code",
   "execution_count": 78,
   "metadata": {},
   "outputs": [
    {
     "data": {
      "text/plain": [
       "disposition_type\n",
       "Liable - System    0.443586\n",
       "Other              0.344281\n",
       "Dismissed          0.165507\n",
       "Liable             0.045209\n",
       "Void               0.001030\n",
       "Continued          0.000386\n",
       "Name: disposition_type, dtype: float64"
      ]
     },
     "execution_count": 78,
     "metadata": {},
     "output_type": "execute_result"
    }
   ],
   "source": [
    "tickets.groupby(by=['issuing_agency_name'])['disposition_type'].value_counts(normalize=True)['METROPOLITAN POLICE DPT-DISTRICT 7']"
   ]
  },
  {
   "cell_type": "code",
   "execution_count": 31,
   "metadata": {},
   "outputs": [
    {
     "data": {
      "text/plain": [
       "issuing_agency_name\n",
       "INSTITUTE OF POLICE SERVICES           250.000000\n",
       "MOBILE FORCE                           250.000000\n",
       "FACILITIES MANAGEMENT                  250.000000\n",
       "FT MCNAIR                              250.000000\n",
       "EVIDENCE CONTROL                       250.000000\n",
       "D.C. HOUSING AUTHORITY                 233.291024\n",
       "SECURITIES OFFICE MANAGEMENT BRANCH    175.000000\n",
       "SPECIAL INSPECTION DIVISION            165.336788\n",
       "TRAINING DIVISION                      156.489362\n",
       "METROPOLITAN POLICE DPT-DISTRICT 7     135.630474\n",
       "OFFICE OF THE CHIEF OF POLICE          135.000000\n",
       "SPECIAL OPERATION DIV & TRAFFIC DIV    122.949175\n",
       "METROPOLITAN POLICE DPT-DISTRICT 4     119.847008\n",
       "METROPOLITAN POLICE DPT-DISTRICT 5     118.741858\n",
       "METRO POLICE DPT-PROPERTY DIVISION     117.812500\n",
       "METROPOLITAN POLICE DPT-DISTRICT 6     116.630304\n",
       "AMTRAK                                 115.882353\n",
       "EXECUTIVE PROTECTION UNIT              110.000000\n",
       "UNVRSTY OF THE D.C. SECURITY POLICE    104.284333\n",
       "FEDERAL PROTECTIVE SERVICES (US GV)    103.581989\n",
       "CRIMINAL INVESTIGATION DIVISION        101.111111\n",
       "OTHER                                  100.354610\n",
       "OFFICE OF UNIFIED COMMUNICATIONS       100.000000\n",
       "US. GOVERNMENT PRINTING OFFICE          99.027778\n",
       "OPERATIONS COMMAND                      93.750000\n",
       "DPT. OF GENERAL SERVICES GUARDS         88.727506\n",
       "METROPOLITAN POLICE DPT-DISTRICT 3      83.891676\n",
       "FORENSICS                               82.000000\n",
       "METROPOLITAN POLICE DPT-DISTRICT 1      80.674998\n",
       "PROTECTIVE SERVICES DEPT (DC GOVT)      79.745455\n",
       "METROPOLITAN POLICE DPT-DISTRICT 2      78.267886\n",
       "US STATE DEPARTMENT                     76.875000\n",
       "OFFICE OF PROFESSIONAL RESPONSIBLTY     68.963964\n",
       "INVESTIGATIVE SERVICES DIVISION         65.000000\n",
       "FBI                                     63.599398\n",
       "U.S. SUPREME COURT POLICE               61.774194\n",
       "US. SECRET SERVICE UNIFORM DIVISION     58.697143\n",
       "DDOT                                    58.108637\n",
       "PATROL SERVICES BUREAU                  57.500000\n",
       "UNITED STATES PARK POLICE               56.654016\n",
       "MPD RESERVE CORPS                       55.281385\n",
       "DEPARTMENT OF PUBLIC WORKS              54.402630\n",
       "YOUTH DIVISION                          50.734266\n",
       "OFF OF FINANCE & RESOURCE MANGEMNT      50.000000\n",
       "SCHOOL SAFETY                           50.000000\n",
       "METRO POLICE                            46.964350\n",
       "TAXI COMMISSION                         42.877778\n",
       "INVESTIGATIVE SERVICES BUREAU           40.000000\n",
       "US. BUREAU OF ENGRAVING AND PRINTNG     39.947917\n",
       "U.S. NATIONAL ZOOLOGICAL POLICE         39.782609\n",
       "UNITED STATES CAPITOL POLICE            37.668278\n",
       "BOLLING AFB                             32.177264\n",
       "COMMAND INFORMATION CENTER              30.356522\n",
       "FLEET MANAGEMENT DIVISION               30.000000\n",
       "YOUTH AND PREVENTIVE SERVICES           30.000000\n",
       "OFFICE OF ORGANIZATIONAL DEVELOPMT      30.000000\n",
       "UNITED STATES MINT                      25.000000\n",
       "MLK LIBRARY                             25.000000\n",
       "Name: fine_amount, dtype: float64"
      ]
     },
     "execution_count": 31,
     "metadata": {},
     "output_type": "execute_result"
    }
   ],
   "source": [
    "tickets.groupby(by=['issuing_agency_name'])['fine_amount'].mean().sort_values(ascending=False)"
   ]
  },
  {
   "cell_type": "code",
   "execution_count": null,
   "metadata": {},
   "outputs": [],
   "source": []
  },
  {
   "cell_type": "code",
   "execution_count": null,
   "metadata": {},
   "outputs": [],
   "source": []
  }
 ],
 "metadata": {
  "kernelspec": {
   "display_name": "Python 3",
   "language": "python",
   "name": "python3"
  },
  "language_info": {
   "codemirror_mode": {
    "name": "ipython",
    "version": 3
   },
   "file_extension": ".py",
   "mimetype": "text/x-python",
   "name": "python",
   "nbconvert_exporter": "python",
   "pygments_lexer": "ipython3",
   "version": "3.8.5"
  }
 },
 "nbformat": 4,
 "nbformat_minor": 4
}
