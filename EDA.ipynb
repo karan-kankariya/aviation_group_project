{
 "cells": [
  {
   "cell_type": "code",
   "execution_count": 1,
   "id": "cd0b3e1c-f55a-4b2c-9f66-6df5a775f06a",
   "metadata": {},
   "outputs": [],
   "source": [
    "import pandas as pd\n",
    "import numpy as np\n",
    "\n",
    "from sklearn.datasets import make_blobs\n",
    "from sklearn.cluster import KMeans\n",
    "from sklearn.metrics import silhouette_score\n",
    "from sklearn.preprocessing import StandardScaler\n",
    "\n",
    "import seaborn as sns\n",
    "import matplotlib.pyplot as plt\n",
    "import matplotlib\n",
    "\n",
    "matplotlib.style.use('ggplot')"
   ]
  },
  {
   "cell_type": "code",
   "execution_count": 2,
   "id": "9a87fadb-78e7-4f3c-a2d8-08554180826a",
   "metadata": {},
   "outputs": [],
   "source": [
    "df = pd.read_csv('cleaned-data/total.csv')"
   ]
  },
  {
   "cell_type": "code",
   "execution_count": 3,
   "id": "f2f6e94e-df06-4179-97a6-4de5d3730e4f",
   "metadata": {},
   "outputs": [
    {
     "data": {
      "text/html": [
       "<div>\n",
       "<style scoped>\n",
       "    .dataframe tbody tr th:only-of-type {\n",
       "        vertical-align: middle;\n",
       "    }\n",
       "\n",
       "    .dataframe tbody tr th {\n",
       "        vertical-align: top;\n",
       "    }\n",
       "\n",
       "    .dataframe thead th {\n",
       "        text-align: right;\n",
       "    }\n",
       "</style>\n",
       "<table border=\"1\" class=\"dataframe\">\n",
       "  <thead>\n",
       "    <tr style=\"text-align: right;\">\n",
       "      <th></th>\n",
       "      <th>objectid</th>\n",
       "      <th>issuing_agency_code</th>\n",
       "      <th>issuing_agency_name</th>\n",
       "      <th>issuing_agency_short</th>\n",
       "      <th>violation_code</th>\n",
       "      <th>violation_proc_desc</th>\n",
       "      <th>location</th>\n",
       "      <th>disposition_type</th>\n",
       "      <th>fine_amount</th>\n",
       "      <th>total_paid</th>\n",
       "      <th>xcoord</th>\n",
       "      <th>ycoord</th>\n",
       "      <th>latitude</th>\n",
       "      <th>longitude</th>\n",
       "      <th>year</th>\n",
       "      <th>month</th>\n",
       "      <th>date</th>\n",
       "      <th>day</th>\n",
       "      <th>hour</th>\n",
       "      <th>minute</th>\n",
       "    </tr>\n",
       "  </thead>\n",
       "  <tbody>\n",
       "    <tr>\n",
       "      <th>0</th>\n",
       "      <td>60327097</td>\n",
       "      <td>80.0</td>\n",
       "      <td>AMTRAK</td>\n",
       "      <td>AMTRK</td>\n",
       "      <td>P170</td>\n",
       "      <td>FAILURE TO DISPLAY CURRENT TAGS</td>\n",
       "      <td>900 2ND ST NE</td>\n",
       "      <td>Dismissed</td>\n",
       "      <td>100.0</td>\n",
       "      <td>0</td>\n",
       "      <td>399661.0</td>\n",
       "      <td>137013.0</td>\n",
       "      <td>38.901</td>\n",
       "      <td>-77.004</td>\n",
       "      <td>2017</td>\n",
       "      <td>9</td>\n",
       "      <td>5</td>\n",
       "      <td>1</td>\n",
       "      <td>11</td>\n",
       "      <td>30</td>\n",
       "    </tr>\n",
       "    <tr>\n",
       "      <th>1</th>\n",
       "      <td>60345241</td>\n",
       "      <td>57.0</td>\n",
       "      <td>METRO POLICE</td>\n",
       "      <td>MTP</td>\n",
       "      <td>P039</td>\n",
       "      <td>PARK AT EXPIRED METER</td>\n",
       "      <td>1290 ALBAMA AVE SE</td>\n",
       "      <td>Liable - System</td>\n",
       "      <td>25.0</td>\n",
       "      <td>60</td>\n",
       "      <td>401049.0</td>\n",
       "      <td>130794.0</td>\n",
       "      <td>38.845</td>\n",
       "      <td>-76.988</td>\n",
       "      <td>2017</td>\n",
       "      <td>9</td>\n",
       "      <td>26</td>\n",
       "      <td>1</td>\n",
       "      <td>10</td>\n",
       "      <td>35</td>\n",
       "    </tr>\n",
       "    <tr>\n",
       "      <th>2</th>\n",
       "      <td>60345242</td>\n",
       "      <td>57.0</td>\n",
       "      <td>METRO POLICE</td>\n",
       "      <td>MTP</td>\n",
       "      <td>P039</td>\n",
       "      <td>PARK AT EXPIRED METER</td>\n",
       "      <td>1290 ALABAMA AV SE</td>\n",
       "      <td>Liable - System</td>\n",
       "      <td>25.0</td>\n",
       "      <td>60</td>\n",
       "      <td>401049.0</td>\n",
       "      <td>130794.0</td>\n",
       "      <td>38.845</td>\n",
       "      <td>-76.988</td>\n",
       "      <td>2017</td>\n",
       "      <td>9</td>\n",
       "      <td>26</td>\n",
       "      <td>1</td>\n",
       "      <td>11</td>\n",
       "      <td>35</td>\n",
       "    </tr>\n",
       "    <tr>\n",
       "      <th>3</th>\n",
       "      <td>60345243</td>\n",
       "      <td>57.0</td>\n",
       "      <td>METRO POLICE</td>\n",
       "      <td>MTP</td>\n",
       "      <td>P170</td>\n",
       "      <td>FAILURE TO DISPLAY CURRENT TAGS</td>\n",
       "      <td>1290 ALABAMA AV SE</td>\n",
       "      <td>Liable - System</td>\n",
       "      <td>100.0</td>\n",
       "      <td>240</td>\n",
       "      <td>401049.0</td>\n",
       "      <td>130794.0</td>\n",
       "      <td>38.845</td>\n",
       "      <td>-76.988</td>\n",
       "      <td>2017</td>\n",
       "      <td>9</td>\n",
       "      <td>26</td>\n",
       "      <td>1</td>\n",
       "      <td>11</td>\n",
       "      <td>40</td>\n",
       "    </tr>\n",
       "    <tr>\n",
       "      <th>4</th>\n",
       "      <td>60345244</td>\n",
       "      <td>57.0</td>\n",
       "      <td>METRO POLICE</td>\n",
       "      <td>MTP</td>\n",
       "      <td>P039</td>\n",
       "      <td>PARK AT EXPIRED METER</td>\n",
       "      <td>1290 ALABAMA AV SE</td>\n",
       "      <td>Other</td>\n",
       "      <td>25.0</td>\n",
       "      <td>25</td>\n",
       "      <td>401049.0</td>\n",
       "      <td>130794.0</td>\n",
       "      <td>38.845</td>\n",
       "      <td>-76.988</td>\n",
       "      <td>2017</td>\n",
       "      <td>9</td>\n",
       "      <td>26</td>\n",
       "      <td>1</td>\n",
       "      <td>11</td>\n",
       "      <td>41</td>\n",
       "    </tr>\n",
       "  </tbody>\n",
       "</table>\n",
       "</div>"
      ],
      "text/plain": [
       "   objectid  issuing_agency_code issuing_agency_name issuing_agency_short  \\\n",
       "0  60327097                 80.0              AMTRAK                AMTRK   \n",
       "1  60345241                 57.0        METRO POLICE                  MTP   \n",
       "2  60345242                 57.0        METRO POLICE                  MTP   \n",
       "3  60345243                 57.0        METRO POLICE                  MTP   \n",
       "4  60345244                 57.0        METRO POLICE                  MTP   \n",
       "\n",
       "  violation_code              violation_proc_desc            location  \\\n",
       "0           P170  FAILURE TO DISPLAY CURRENT TAGS       900 2ND ST NE   \n",
       "1           P039            PARK AT EXPIRED METER  1290 ALBAMA AVE SE   \n",
       "2           P039            PARK AT EXPIRED METER  1290 ALABAMA AV SE   \n",
       "3           P170  FAILURE TO DISPLAY CURRENT TAGS  1290 ALABAMA AV SE   \n",
       "4           P039            PARK AT EXPIRED METER  1290 ALABAMA AV SE   \n",
       "\n",
       "  disposition_type  fine_amount  total_paid    xcoord    ycoord  latitude  \\\n",
       "0        Dismissed        100.0           0  399661.0  137013.0    38.901   \n",
       "1  Liable - System         25.0          60  401049.0  130794.0    38.845   \n",
       "2  Liable - System         25.0          60  401049.0  130794.0    38.845   \n",
       "3  Liable - System        100.0         240  401049.0  130794.0    38.845   \n",
       "4            Other         25.0          25  401049.0  130794.0    38.845   \n",
       "\n",
       "   longitude  year  month  date  day  hour  minute  \n",
       "0    -77.004  2017      9     5    1    11      30  \n",
       "1    -76.988  2017      9    26    1    10      35  \n",
       "2    -76.988  2017      9    26    1    11      35  \n",
       "3    -76.988  2017      9    26    1    11      40  \n",
       "4    -76.988  2017      9    26    1    11      41  "
      ]
     },
     "execution_count": 3,
     "metadata": {},
     "output_type": "execute_result"
    }
   ],
   "source": [
    "df.head()"
   ]
  },
  {
   "cell_type": "code",
   "execution_count": 4,
   "id": "6045df63-da94-48c1-bf99-ee753b96ac65",
   "metadata": {},
   "outputs": [
    {
     "data": {
      "text/plain": [
       "(2669807, 20)"
      ]
     },
     "execution_count": 4,
     "metadata": {},
     "output_type": "execute_result"
    }
   ],
   "source": [
    "df.shape"
   ]
  },
  {
   "cell_type": "code",
   "execution_count": 5,
   "id": "c28aacaa-1dc8-4be2-968c-43037f62d23d",
   "metadata": {},
   "outputs": [
    {
     "data": {
      "text/plain": [
       "objectid                0\n",
       "issuing_agency_code     0\n",
       "issuing_agency_name     0\n",
       "issuing_agency_short    0\n",
       "violation_code          0\n",
       "violation_proc_desc     0\n",
       "location                0\n",
       "disposition_type        0\n",
       "fine_amount             0\n",
       "total_paid              0\n",
       "xcoord                  0\n",
       "ycoord                  0\n",
       "latitude                0\n",
       "longitude               0\n",
       "year                    0\n",
       "month                   0\n",
       "date                    0\n",
       "day                     0\n",
       "hour                    0\n",
       "minute                  0\n",
       "dtype: int64"
      ]
     },
     "execution_count": 5,
     "metadata": {},
     "output_type": "execute_result"
    }
   ],
   "source": [
    "df.isnull().sum()"
   ]
  },
  {
   "cell_type": "code",
   "execution_count": 6,
   "id": "c7bd0028-53d3-46b7-8baf-c3f5e926d5c1",
   "metadata": {},
   "outputs": [
    {
     "data": {
      "text/plain": [
       "Index(['objectid', 'issuing_agency_code', 'issuing_agency_name',\n",
       "       'issuing_agency_short', 'violation_code', 'violation_proc_desc',\n",
       "       'location', 'disposition_type', 'fine_amount', 'total_paid', 'xcoord',\n",
       "       'ycoord', 'latitude', 'longitude', 'year', 'month', 'date', 'day',\n",
       "       'hour', 'minute'],\n",
       "      dtype='object')"
      ]
     },
     "execution_count": 6,
     "metadata": {},
     "output_type": "execute_result"
    }
   ],
   "source": [
    "df.columns"
   ]
  },
  {
   "cell_type": "code",
   "execution_count": 7,
   "id": "a79de855-b0a9-4d3f-ab4c-ff8483730c5c",
   "metadata": {},
   "outputs": [
    {
     "data": {
      "text/plain": [
       "Other               0.662185\n",
       "Liable - System     0.223375\n",
       "Dismissed           0.060509\n",
       "Liable              0.051959\n",
       "Void                0.001100\n",
       "Continued           0.000558\n",
       "Administrative      0.000270\n",
       "Liable - Traffic    0.000045\n",
       "Name: disposition_type, dtype: float64"
      ]
     },
     "execution_count": 7,
     "metadata": {},
     "output_type": "execute_result"
    }
   ],
   "source": [
    "df['disposition_type'].value_counts(normalize=True)"
   ]
  },
  {
   "cell_type": "code",
   "execution_count": 8,
   "id": "414da158-e377-4087-9c1d-0d02f088c3fc",
   "metadata": {},
   "outputs": [
    {
     "data": {
      "text/html": [
       "<div>\n",
       "<style scoped>\n",
       "    .dataframe tbody tr th:only-of-type {\n",
       "        vertical-align: middle;\n",
       "    }\n",
       "\n",
       "    .dataframe tbody tr th {\n",
       "        vertical-align: top;\n",
       "    }\n",
       "\n",
       "    .dataframe thead th {\n",
       "        text-align: right;\n",
       "    }\n",
       "</style>\n",
       "<table border=\"1\" class=\"dataframe\">\n",
       "  <thead>\n",
       "    <tr style=\"text-align: right;\">\n",
       "      <th></th>\n",
       "      <th>total_paid</th>\n",
       "      <th>fine_amount</th>\n",
       "    </tr>\n",
       "    <tr>\n",
       "      <th>disposition_type</th>\n",
       "      <th></th>\n",
       "      <th></th>\n",
       "    </tr>\n",
       "  </thead>\n",
       "  <tbody>\n",
       "    <tr>\n",
       "      <th>Administrative</th>\n",
       "      <td>45.118056</td>\n",
       "      <td>55.277778</td>\n",
       "    </tr>\n",
       "    <tr>\n",
       "      <th>Continued</th>\n",
       "      <td>40.881128</td>\n",
       "      <td>75.809268</td>\n",
       "    </tr>\n",
       "    <tr>\n",
       "      <th>Dismissed</th>\n",
       "      <td>1.020254</td>\n",
       "      <td>75.236103</td>\n",
       "    </tr>\n",
       "    <tr>\n",
       "      <th>Liable</th>\n",
       "      <td>45.284069</td>\n",
       "      <td>69.663963</td>\n",
       "    </tr>\n",
       "    <tr>\n",
       "      <th>Liable - System</th>\n",
       "      <td>36.907208</td>\n",
       "      <td>60.394485</td>\n",
       "    </tr>\n",
       "    <tr>\n",
       "      <th>Liable - Traffic</th>\n",
       "      <td>0.000000</td>\n",
       "      <td>25.630252</td>\n",
       "    </tr>\n",
       "    <tr>\n",
       "      <th>Other</th>\n",
       "      <td>47.535042</td>\n",
       "      <td>51.975895</td>\n",
       "    </tr>\n",
       "    <tr>\n",
       "      <th>Void</th>\n",
       "      <td>4.320735</td>\n",
       "      <td>59.584610</td>\n",
       "    </tr>\n",
       "  </tbody>\n",
       "</table>\n",
       "</div>"
      ],
      "text/plain": [
       "                  total_paid  fine_amount\n",
       "disposition_type                         \n",
       "Administrative     45.118056    55.277778\n",
       "Continued          40.881128    75.809268\n",
       "Dismissed           1.020254    75.236103\n",
       "Liable             45.284069    69.663963\n",
       "Liable - System    36.907208    60.394485\n",
       "Liable - Traffic    0.000000    25.630252\n",
       "Other              47.535042    51.975895\n",
       "Void                4.320735    59.584610"
      ]
     },
     "execution_count": 8,
     "metadata": {},
     "output_type": "execute_result"
    }
   ],
   "source": [
    "df.groupby(by = 'disposition_type').mean()[['total_paid','fine_amount']]"
   ]
  },
  {
   "cell_type": "code",
   "execution_count": 9,
   "id": "3aa7acc1-962f-4f46-870d-ffa0d87c6e25",
   "metadata": {},
   "outputs": [],
   "source": [
    "fine = df[df['disposition_type'] == 'Other'][['objectid','disposition_type','total_paid', 'fine_amount','longitude','latitude']]"
   ]
  },
  {
   "cell_type": "code",
   "execution_count": 10,
   "id": "9526d5a6-ea7c-407f-a5b1-c04d3622b6c7",
   "metadata": {},
   "outputs": [],
   "source": [
    "fine_0 = fine[fine['total_paid']== 0]"
   ]
  },
  {
   "cell_type": "code",
   "execution_count": 11,
   "id": "f39d702d-336e-4611-b117-8497804614b1",
   "metadata": {},
   "outputs": [],
   "source": [
    "fine_0.to_csv('datasets/fine_0.csv')"
   ]
  },
  {
   "cell_type": "markdown",
   "id": "11dff2ce-31c4-4bd5-b3bf-b9c7e3a2eb93",
   "metadata": {},
   "source": [
    "## Clustering"
   ]
  },
  {
   "cell_type": "markdown",
   "id": "93da8e94-b799-4fbe-a2e2-aaadee707246",
   "metadata": {},
   "source": [
    "### K-Means"
   ]
  },
  {
   "cell_type": "code",
   "execution_count": 12,
   "id": "e48e5971-e6d8-40ba-9cd5-c50d8b0b2d70",
   "metadata": {},
   "outputs": [
    {
     "data": {
      "image/png": "[encoded data removed]",
      "text/plain": [
       "<Figure size 864x432 with 1 Axes>"
      ]
     },
     "metadata": {},
     "output_type": "display_data"
    }
   ],
   "source": [
    "# Plot the scatter\n",
    "ax = df.plot(kind=\"scatter\", x=\"latitude\", y=\"longitude\", figsize=(12,6), s=50)\n",
    "plt.xlabel(\"$latitude$\", fontsize=18)\n",
    "plt.ylabel(\"$longitude$\", fontsize=18)\n",
    "ax.tick_params(axis='both', which='major', labelsize=18)"
   ]
  },
  {
   "cell_type": "code",
   "execution_count": 13,
   "id": "fe14c47d-64c7-4b08-a750-af91cd4e77d4",
   "metadata": {},
   "outputs": [
    {
     "data": {
      "text/html": [
       "<div>\n",
       "<style scoped>\n",
       "    .dataframe tbody tr th:only-of-type {\n",
       "        vertical-align: middle;\n",
       "    }\n",
       "\n",
       "    .dataframe tbody tr th {\n",
       "        vertical-align: top;\n",
       "    }\n",
       "\n",
       "    .dataframe thead th {\n",
       "        text-align: right;\n",
       "    }\n",
       "</style>\n",
       "<table border=\"1\" class=\"dataframe\">\n",
       "  <thead>\n",
       "    <tr style=\"text-align: right;\">\n",
       "      <th></th>\n",
       "      <th>latitude</th>\n",
       "      <th>longitude</th>\n",
       "    </tr>\n",
       "  </thead>\n",
       "  <tbody>\n",
       "    <tr>\n",
       "      <th>count</th>\n",
       "      <td>2.669807e+06</td>\n",
       "      <td>2.669807e+06</td>\n",
       "    </tr>\n",
       "    <tr>\n",
       "      <th>mean</th>\n",
       "      <td>3.890623e+01</td>\n",
       "      <td>-7.702495e+01</td>\n",
       "    </tr>\n",
       "    <tr>\n",
       "      <th>std</th>\n",
       "      <td>2.119231e-02</td>\n",
       "      <td>2.670738e-02</td>\n",
       "    </tr>\n",
       "    <tr>\n",
       "      <th>min</th>\n",
       "      <td>3.881300e+01</td>\n",
       "      <td>-7.711200e+01</td>\n",
       "    </tr>\n",
       "    <tr>\n",
       "      <th>25%</th>\n",
       "      <td>3.889600e+01</td>\n",
       "      <td>-7.704100e+01</td>\n",
       "    </tr>\n",
       "    <tr>\n",
       "      <th>50%</th>\n",
       "      <td>3.890300e+01</td>\n",
       "      <td>-7.702700e+01</td>\n",
       "    </tr>\n",
       "    <tr>\n",
       "      <th>75%</th>\n",
       "      <td>3.891600e+01</td>\n",
       "      <td>-7.701200e+01</td>\n",
       "    </tr>\n",
       "    <tr>\n",
       "      <th>max</th>\n",
       "      <td>3.899400e+01</td>\n",
       "      <td>-7.691000e+01</td>\n",
       "    </tr>\n",
       "  </tbody>\n",
       "</table>\n",
       "</div>"
      ],
      "text/plain": [
       "           latitude     longitude\n",
       "count  2.669807e+06  2.669807e+06\n",
       "mean   3.890623e+01 -7.702495e+01\n",
       "std    2.119231e-02  2.670738e-02\n",
       "min    3.881300e+01 -7.711200e+01\n",
       "25%    3.889600e+01 -7.704100e+01\n",
       "50%    3.890300e+01 -7.702700e+01\n",
       "75%    3.891600e+01 -7.701200e+01\n",
       "max    3.899400e+01 -7.691000e+01"
      ]
     },
     "execution_count": 13,
     "metadata": {},
     "output_type": "execute_result"
    }
   ],
   "source": [
    "df[['latitude','longitude']].describe()"
   ]
  },
  {
   "cell_type": "code",
   "execution_count": 14,
   "id": "610c6cdc-a4d0-494a-b0e0-f9ecdeecb9fa",
   "metadata": {},
   "outputs": [],
   "source": [
    "# Select only latitude and longitude\n",
    "X = df[['latitude','longitude']]"
   ]
  },
  {
   "cell_type": "code",
   "execution_count": 15,
   "id": "794fda80-46dd-4fb5-8543-057c537eb61f",
   "metadata": {},
   "outputs": [
    {
     "data": {
      "image/png": "[encoded data removed]",
      "text/plain": [
       "<Figure size 360x360 with 6 Axes>"
      ]
     },
     "metadata": {},
     "output_type": "display_data"
    }
   ],
   "source": [
    "sns.pairplot(X);"
   ]
  },
  {
   "cell_type": "code",
   "execution_count": 16,
   "id": "fc90e4ce-6c95-4892-b6ca-3a5ff2065dae",
   "metadata": {},
   "outputs": [
    {
     "data": {
      "text/plain": [
       "array([[-0.24696307,  0.7845573 ],\n",
       "       [-2.88943095,  1.38364279],\n",
       "       [-2.88943095,  1.38364279],\n",
       "       [-2.88943095,  1.38364279],\n",
       "       [-2.88943095,  1.38364279]])"
      ]
     },
     "execution_count": 16,
     "metadata": {},
     "output_type": "execute_result"
    }
   ],
   "source": [
    "# standarize data for preparation\n",
    "ss = StandardScaler()\n",
    "ss.fit(X)\n",
    "X_sc = ss.transform(X)\n",
    "X_sc[:5]"
   ]
  },
  {
   "cell_type": "code",
   "execution_count": 17,
   "id": "569f73fa-73fa-440e-be6a-091670e7a73e",
   "metadata": {},
   "outputs": [
    {
     "data": {
      "text/plain": [
       "KMeans(n_clusters=3)"
      ]
     },
     "execution_count": 17,
     "metadata": {},
     "output_type": "execute_result"
    }
   ],
   "source": [
    "# Instantiate k-means\n",
    "km = KMeans(n_clusters=3)\n",
    "km.fit(X_sc)"
   ]
  },
  {
   "cell_type": "code",
   "execution_count": 18,
   "id": "5d689066-0260-49a0-bfe7-6a7ff6ed8ad4",
   "metadata": {},
   "outputs": [
    {
     "data": {
      "text/plain": [
       "array([[-0.83142747,  1.2364122 ],\n",
       "       [ 1.60576339, -0.62184864],\n",
       "       [-0.09396167, -0.3619603 ]])"
      ]
     },
     "execution_count": 18,
     "metadata": {},
     "output_type": "execute_result"
    }
   ],
   "source": [
    "# Check out centroids\n",
    "km.cluster_centers_"
   ]
  },
  {
   "cell_type": "code",
   "execution_count": 19,
   "id": "16623a3a-982b-4ee0-80a5-4a3cb51b3ba8",
   "metadata": {},
   "outputs": [
    {
     "name": "stderr",
     "output_type": "stream",
     "text": [
      "<ipython-input-19-5f1d01be826c>:2: SettingWithCopyWarning: \n",
      "A value is trying to be set on a copy of a slice from a DataFrame.\n",
      "Try using .loc[row_indexer,col_indexer] = value instead\n",
      "\n",
      "See the caveats in the documentation: https://pandas.pydata.org/pandas-docs/stable/user_guide/indexing.html#returning-a-view-versus-a-copy\n",
      "  X['cluster'] = km.labels_\n"
     ]
    },
    {
     "data": {
      "text/html": [
       "<div>\n",
       "<style scoped>\n",
       "    .dataframe tbody tr th:only-of-type {\n",
       "        vertical-align: middle;\n",
       "    }\n",
       "\n",
       "    .dataframe tbody tr th {\n",
       "        vertical-align: top;\n",
       "    }\n",
       "\n",
       "    .dataframe thead th {\n",
       "        text-align: right;\n",
       "    }\n",
       "</style>\n",
       "<table border=\"1\" class=\"dataframe\">\n",
       "  <thead>\n",
       "    <tr style=\"text-align: right;\">\n",
       "      <th></th>\n",
       "      <th>latitude</th>\n",
       "      <th>longitude</th>\n",
       "      <th>cluster</th>\n",
       "    </tr>\n",
       "  </thead>\n",
       "  <tbody>\n",
       "    <tr>\n",
       "      <th>0</th>\n",
       "      <td>38.901</td>\n",
       "      <td>-77.004</td>\n",
       "      <td>0</td>\n",
       "    </tr>\n",
       "    <tr>\n",
       "      <th>1</th>\n",
       "      <td>38.845</td>\n",
       "      <td>-76.988</td>\n",
       "      <td>0</td>\n",
       "    </tr>\n",
       "    <tr>\n",
       "      <th>2</th>\n",
       "      <td>38.845</td>\n",
       "      <td>-76.988</td>\n",
       "      <td>0</td>\n",
       "    </tr>\n",
       "  </tbody>\n",
       "</table>\n",
       "</div>"
      ],
      "text/plain": [
       "   latitude  longitude  cluster\n",
       "0    38.901    -77.004        0\n",
       "1    38.845    -76.988        0\n",
       "2    38.845    -76.988        0"
      ]
     },
     "execution_count": 19,
     "metadata": {},
     "output_type": "execute_result"
    }
   ],
   "source": [
    "# attach predicted cluster to original points\n",
    "X['cluster'] = km.labels_\n",
    "X.head(3)"
   ]
  },
  {
   "cell_type": "code",
   "execution_count": 20,
   "id": "fa077413-a422-42eb-8bfc-b7c6596f5f50",
   "metadata": {},
   "outputs": [
    {
     "data": {
      "text/html": [
       "<div>\n",
       "<style scoped>\n",
       "    .dataframe tbody tr th:only-of-type {\n",
       "        vertical-align: middle;\n",
       "    }\n",
       "\n",
       "    .dataframe tbody tr th {\n",
       "        vertical-align: top;\n",
       "    }\n",
       "\n",
       "    .dataframe thead th {\n",
       "        text-align: right;\n",
       "    }\n",
       "</style>\n",
       "<table border=\"1\" class=\"dataframe\">\n",
       "  <thead>\n",
       "    <tr style=\"text-align: right;\">\n",
       "      <th></th>\n",
       "      <th>latitude</th>\n",
       "      <th>longitude</th>\n",
       "    </tr>\n",
       "    <tr>\n",
       "      <th>cluster</th>\n",
       "      <th></th>\n",
       "      <th></th>\n",
       "    </tr>\n",
       "  </thead>\n",
       "  <tbody>\n",
       "    <tr>\n",
       "      <th>0</th>\n",
       "      <td>38.888618</td>\n",
       "      <td>-76.991932</td>\n",
       "    </tr>\n",
       "    <tr>\n",
       "      <th>1</th>\n",
       "      <td>38.940394</td>\n",
       "      <td>-77.041590</td>\n",
       "    </tr>\n",
       "    <tr>\n",
       "      <th>2</th>\n",
       "      <td>38.904278</td>\n",
       "      <td>-77.034629</td>\n",
       "    </tr>\n",
       "  </tbody>\n",
       "</table>\n",
       "</div>"
      ],
      "text/plain": [
       "          latitude  longitude\n",
       "cluster                      \n",
       "0        38.888618 -76.991932\n",
       "1        38.940394 -77.041590\n",
       "2        38.904278 -77.034629"
      ]
     },
     "execution_count": 20,
     "metadata": {},
     "output_type": "execute_result"
    }
   ],
   "source": [
    "# check mean difference\n",
    "X.groupby(by = 'cluster').mean()"
   ]
  },
  {
   "cell_type": "code",
   "execution_count": 21,
   "id": "52bd65a8-accc-4b52-a05d-dd080ed629d7",
   "metadata": {},
   "outputs": [
    {
     "data": {
      "text/html": [
       "<div>\n",
       "<style scoped>\n",
       "    .dataframe tbody tr th:only-of-type {\n",
       "        vertical-align: middle;\n",
       "    }\n",
       "\n",
       "    .dataframe tbody tr th {\n",
       "        vertical-align: top;\n",
       "    }\n",
       "\n",
       "    .dataframe thead th {\n",
       "        text-align: right;\n",
       "    }\n",
       "</style>\n",
       "<table border=\"1\" class=\"dataframe\">\n",
       "  <thead>\n",
       "    <tr style=\"text-align: right;\">\n",
       "      <th></th>\n",
       "      <th>latitude</th>\n",
       "      <th>longitude</th>\n",
       "    </tr>\n",
       "  </thead>\n",
       "  <tbody>\n",
       "    <tr>\n",
       "      <th>0</th>\n",
       "      <td>38.888614</td>\n",
       "      <td>-76.991932</td>\n",
       "    </tr>\n",
       "    <tr>\n",
       "      <th>1</th>\n",
       "      <td>38.940264</td>\n",
       "      <td>-77.041561</td>\n",
       "    </tr>\n",
       "    <tr>\n",
       "      <th>2</th>\n",
       "      <td>38.904242</td>\n",
       "      <td>-77.034620</td>\n",
       "    </tr>\n",
       "  </tbody>\n",
       "</table>\n",
       "</div>"
      ],
      "text/plain": [
       "    latitude  longitude\n",
       "0  38.888614 -76.991932\n",
       "1  38.940264 -77.041561\n",
       "2  38.904242 -77.034620"
      ]
     },
     "execution_count": 21,
     "metadata": {},
     "output_type": "execute_result"
    }
   ],
   "source": [
    "## Create a dataframe for cluster_centers (centroids)\n",
    "centroid_X = pd.DataFrame(\n",
    "    ss.inverse_transform(km.cluster_centers_),\n",
    "    columns=['latitude','longitude']\n",
    ")\n",
    "centroid_X"
   ]
  },
  {
   "cell_type": "code",
   "execution_count": 22,
   "id": "d71fb5ff-bd03-4d81-92f2-b20bb289e7fe",
   "metadata": {},
   "outputs": [
    {
     "data": {
      "image/png": "[encoded data removed]",
      "text/plain": [
       "<Figure size 432x288 with 1 Axes>"
      ]
     },
     "metadata": {},
     "output_type": "display_data"
    }
   ],
   "source": [
    "plt.scatter(x=X['latitude'],y=X['longitude'],c =X['cluster'])\n",
    "plt.scatter(centroid_X['latitude'],centroid_X['longitude'],marker='x');"
   ]
  },
  {
   "cell_type": "markdown",
   "id": "3fa3c69a-afd8-48d6-ac8b-5122849d63de",
   "metadata": {},
   "source": [
    "### DBSCAN"
   ]
  }
 ],
 "metadata": {
  "kernelspec": {
   "display_name": "Python 3",
   "language": "python",
   "name": "python3"
  },
  "language_info": {
   "codemirror_mode": {
    "name": "ipython",
    "version": 3
   },
   "file_extension": ".py",
   "mimetype": "text/x-python",
   "name": "python",
   "nbconvert_exporter": "python",
   "pygments_lexer": "ipython3",
   "version": "3.8.8"
  }
 },
 "nbformat": 4,
 "nbformat_minor": 5
}
