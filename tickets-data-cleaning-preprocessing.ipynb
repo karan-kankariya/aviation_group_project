{
 "cells": [
  {
   "cell_type": "markdown",
   "id": "f5153bd7-d997-46d0-bad0-1dc04bd18694",
   "metadata": {},
   "source": [
    "**Each of the four of us used this identical preeliminary cleaning steps for our 6 months of data. Which was then compiled into one giant dataset called total.csv**"
   ]
  },
  {
   "cell_type": "code",
   "execution_count": 1,
   "id": "15cc1edc-9b0a-4f83-a9a8-8d6d3a06be9f",
   "metadata": {
    "tags": []
   },
   "outputs": [],
   "source": [
    "import pandas as pd\n",
    "import glob"
   ]
  },
  {
   "cell_type": "code",
   "execution_count": 2,
   "id": "284d1093-cae9-4623-9ddb-91d092e7847a",
   "metadata": {},
   "outputs": [],
   "source": [
    "def get_dataframe(path):\n",
    "    all_files = glob.glob(path + \"/*.csv\")\n",
    "    li = []\n",
    "    for filename in all_files:\n",
    "        df = pd.read_csv(filename, index_col=None, header=0)\n",
    "        li.append(df)\n",
    "    frame = pd.concat(li, axis=0, ignore_index=True)\n",
    "    return frame"
   ]
  },
  {
   "cell_type": "code",
   "execution_count": 3,
   "id": "41b32026-52e5-467f-9a7e-557028adc4a4",
   "metadata": {},
   "outputs": [
    {
     "name": "stderr",
     "output_type": "stream",
     "text": [
      "C:\\Users\\Boris\\anaconda3\\lib\\site-packages\\IPython\\core\\interactiveshell.py:3357: DtypeWarning: Columns (10) have mixed types.Specify dtype option on import or set low_memory=False.\n",
      "  if (await self.run_code(code, result,  async_=asy)):\n"
     ]
    }
   ],
   "source": [
    "tix_jul18_dec18 = get_dataframe('./Data/parking_jul18_dec18')"
   ]
  },
  {
   "cell_type": "code",
   "execution_count": 4,
   "id": "8238b0be-48c2-4160-b686-23b596090c09",
   "metadata": {},
   "outputs": [
    {
     "data": {
      "text/plain": [
       "(687264, 31)"
      ]
     },
     "execution_count": 4,
     "metadata": {},
     "output_type": "execute_result"
    }
   ],
   "source": [
    "tix_jul18_dec18.shape"
   ]
  },
  {
   "cell_type": "code",
   "execution_count": 5,
   "id": "5b5e519c-4b76-4f1e-91e1-119faecd349d",
   "metadata": {},
   "outputs": [
    {
     "data": {
      "text/plain": [
       "Index(['OBJECTID', 'TICKET_NUMBER', 'VIOLATION_TYPE_DESC', 'ISSUE_DATE',\n",
       "       'ISSUE_TIME', 'ISSUING_AGENCY_CODE', 'ISSUING_AGENCY_NAME',\n",
       "       'ISSUING_AGENCY_SHORT', 'VIOLATION_CODE', 'VIOLATION_PROC_DESC',\n",
       "       'LOCATION', 'PLATE_STATE', 'VEHICLE_TYPE', 'MULTI_OWNER_NUMBER',\n",
       "       'DISPOSITION_CODE', 'DISPOSITION_TYPE', 'DISPOSITION_DESC',\n",
       "       'DISPOSITION_DATE', 'FINE_AMOUNT', 'TOTAL_PAID', 'PENALTY_1',\n",
       "       'PENALTY_2', 'PENALTY_3', 'PENALTY_4', 'PENALTY_5', 'XCOORD', 'YCOORD',\n",
       "       'LATITUDE', 'LONGITUDE', 'MAR_ID', 'GIS_LAST_MOD_DTTM'],\n",
       "      dtype='object')"
      ]
     },
     "execution_count": 5,
     "metadata": {},
     "output_type": "execute_result"
    }
   ],
   "source": [
    "tix_jul18_dec18.columns"
   ]
  },
  {
   "cell_type": "code",
   "execution_count": 6,
   "id": "3ff0ace5-e52c-4b0c-8f58-65599baffe7e",
   "metadata": {},
   "outputs": [
    {
     "data": {
      "text/html": [
       "<div>\n",
       "<style scoped>\n",
       "    .dataframe tbody tr th:only-of-type {\n",
       "        vertical-align: middle;\n",
       "    }\n",
       "\n",
       "    .dataframe tbody tr th {\n",
       "        vertical-align: top;\n",
       "    }\n",
       "\n",
       "    .dataframe thead th {\n",
       "        text-align: right;\n",
       "    }\n",
       "</style>\n",
       "<table border=\"1\" class=\"dataframe\">\n",
       "  <thead>\n",
       "    <tr style=\"text-align: right;\">\n",
       "      <th></th>\n",
       "      <th>OBJECTID</th>\n",
       "      <th>TICKET_NUMBER</th>\n",
       "      <th>VIOLATION_TYPE_DESC</th>\n",
       "      <th>ISSUE_DATE</th>\n",
       "      <th>ISSUE_TIME</th>\n",
       "      <th>ISSUING_AGENCY_CODE</th>\n",
       "      <th>ISSUING_AGENCY_NAME</th>\n",
       "      <th>ISSUING_AGENCY_SHORT</th>\n",
       "      <th>VIOLATION_CODE</th>\n",
       "      <th>VIOLATION_PROC_DESC</th>\n",
       "      <th>...</th>\n",
       "      <th>PENALTY_2</th>\n",
       "      <th>PENALTY_3</th>\n",
       "      <th>PENALTY_4</th>\n",
       "      <th>PENALTY_5</th>\n",
       "      <th>XCOORD</th>\n",
       "      <th>YCOORD</th>\n",
       "      <th>LATITUDE</th>\n",
       "      <th>LONGITUDE</th>\n",
       "      <th>MAR_ID</th>\n",
       "      <th>GIS_LAST_MOD_DTTM</th>\n",
       "    </tr>\n",
       "  </thead>\n",
       "  <tbody>\n",
       "    <tr>\n",
       "      <th>0</th>\n",
       "      <td>60332296</td>\n",
       "      <td>260549310.0</td>\n",
       "      <td>P</td>\n",
       "      <td>2018/08/11 04:00:00+00</td>\n",
       "      <td>09:00 AM</td>\n",
       "      <td>54.0</td>\n",
       "      <td>ST.ELZBETH HOSPITAL SECURITY GUARDS</td>\n",
       "      <td>SEH</td>\n",
       "      <td>P001</td>\n",
       "      <td>PARK ABREAST OF ANOTHER VEHICLE</td>\n",
       "      <td>...</td>\n",
       "      <td>NaN</td>\n",
       "      <td>NaN</td>\n",
       "      <td>NaN</td>\n",
       "      <td>NaN</td>\n",
       "      <td>NaN</td>\n",
       "      <td>NaN</td>\n",
       "      <td>NaN</td>\n",
       "      <td>NaN</td>\n",
       "      <td>NaN</td>\n",
       "      <td>2019/05/29 04:16:08+00</td>\n",
       "    </tr>\n",
       "  </tbody>\n",
       "</table>\n",
       "<p>1 rows × 31 columns</p>\n",
       "</div>"
      ],
      "text/plain": [
       "   OBJECTID  TICKET_NUMBER VIOLATION_TYPE_DESC              ISSUE_DATE  \\\n",
       "0  60332296    260549310.0                   P  2018/08/11 04:00:00+00   \n",
       "\n",
       "  ISSUE_TIME  ISSUING_AGENCY_CODE                  ISSUING_AGENCY_NAME  \\\n",
       "0   09:00 AM                 54.0  ST.ELZBETH HOSPITAL SECURITY GUARDS   \n",
       "\n",
       "  ISSUING_AGENCY_SHORT VIOLATION_CODE              VIOLATION_PROC_DESC  ...  \\\n",
       "0                  SEH           P001  PARK ABREAST OF ANOTHER VEHICLE  ...   \n",
       "\n",
       "  PENALTY_2 PENALTY_3 PENALTY_4  PENALTY_5  XCOORD YCOORD LATITUDE LONGITUDE  \\\n",
       "0       NaN       NaN       NaN        NaN     NaN    NaN      NaN       NaN   \n",
       "\n",
       "   MAR_ID       GIS_LAST_MOD_DTTM  \n",
       "0     NaN  2019/05/29 04:16:08+00  \n",
       "\n",
       "[1 rows x 31 columns]"
      ]
     },
     "execution_count": 6,
     "metadata": {},
     "output_type": "execute_result"
    }
   ],
   "source": [
    "tix_jul18_dec18.head(1)"
   ]
  },
  {
   "cell_type": "code",
   "execution_count": 8,
   "id": "f52e2842-a436-4234-bbc8-4677f7bb7f86",
   "metadata": {},
   "outputs": [
    {
     "data": {
      "text/plain": [
       "Other               400993\n",
       "Liable - System     199429\n",
       "Dismissed            44266\n",
       "Liable               40776\n",
       "Void                  1001\n",
       "Continued              730\n",
       "Administrative          41\n",
       "Liable - Traffic        28\n",
       "Name: DISPOSITION_TYPE, dtype: int64"
      ]
     },
     "execution_count": 8,
     "metadata": {},
     "output_type": "execute_result"
    }
   ],
   "source": [
    "tix_jul18_dec18['DISPOSITION_TYPE'].value_counts()"
   ]
  },
  {
   "cell_type": "code",
   "execution_count": 9,
   "id": "431564c4-d0b7-44e6-a80f-d028b8afc9e6",
   "metadata": {},
   "outputs": [
    {
     "data": {
      "text/plain": [
       "OBJECTID                     0\n",
       "TICKET_NUMBER           202534\n",
       "VIOLATION_TYPE_DESC     202534\n",
       "ISSUE_DATE                   0\n",
       "ISSUE_TIME                 505\n",
       "ISSUING_AGENCY_CODE        170\n",
       "ISSUING_AGENCY_NAME        170\n",
       "ISSUING_AGENCY_SHORT       170\n",
       "VIOLATION_CODE               0\n",
       "VIOLATION_PROC_DESC      24259\n",
       "LOCATION                   119\n",
       "PLATE_STATE                  0\n",
       "VEHICLE_TYPE            687263\n",
       "MULTI_OWNER_NUMBER      653466\n",
       "DISPOSITION_CODE        400257\n",
       "DISPOSITION_TYPE             0\n",
       "DISPOSITION_DESC        400257\n",
       "DISPOSITION_DATE        400257\n",
       "FINE_AMOUNT              24908\n",
       "TOTAL_PAID                   0\n",
       "PENALTY_1               403913\n",
       "PENALTY_2               687264\n",
       "PENALTY_3               573349\n",
       "PENALTY_4               687146\n",
       "PENALTY_5               687264\n",
       "XCOORD                   21237\n",
       "YCOORD                   21237\n",
       "LATITUDE                 21237\n",
       "LONGITUDE                21237\n",
       "MAR_ID                   21237\n",
       "GIS_LAST_MOD_DTTM            0\n",
       "dtype: int64"
      ]
     },
     "execution_count": 9,
     "metadata": {},
     "output_type": "execute_result"
    }
   ],
   "source": [
    "tix_jul18_dec18.isnull().sum()"
   ]
  },
  {
   "cell_type": "code",
   "execution_count": 10,
   "id": "5405797f-ddac-4adc-b091-cf18b9bfe60f",
   "metadata": {},
   "outputs": [],
   "source": [
    "#columns with >80% nulls\n",
    "tix_jul18_dec18.drop(columns=['DISPOSITION_CODE','DISPOSITION_DATE','PENALTY_1',\n",
    "                             'PENALTY_2','PENALTY_3','PENALTY_4','PENALTY_5',\n",
    "                             'VEHICLE_TYPE','MULTI_OWNER_NUMBER','DISPOSITION_DESC',\n",
    "                            'TICKET_NUMBER', 'VIOLATION_TYPE_DESC'],inplace=True)"
   ]
  },
  {
   "cell_type": "code",
   "execution_count": 11,
   "id": "2eadfc28-a29a-4169-940c-7c07bafb3f06",
   "metadata": {},
   "outputs": [],
   "source": [
    "# other columns to drop\n",
    "# PLATE_STATE - empty column, no values\n",
    "# GIS_LAST_MOD_DTTM - i think this is the date dataset was uploaded into database\n",
    "\n",
    "# Empty column, no values\n",
    "tix_jul18_dec18.drop(columns=['PLATE_STATE', 'GIS_LAST_MOD_DTTM'],inplace=True)"
   ]
  },
  {
   "cell_type": "code",
   "execution_count": 12,
   "id": "bcba9cff-e3e2-4bb4-8935-bc2b3ba285f8",
   "metadata": {},
   "outputs": [],
   "source": [
    "#lowercase column names\n",
    "tix_jul18_dec18.columns = map(str.lower, tix_jul18_dec18.columns)"
   ]
  },
  {
   "cell_type": "code",
   "execution_count": 13,
   "id": "47f46423-16c9-42b4-a080-239d331d07b3",
   "metadata": {},
   "outputs": [],
   "source": [
    "#drop issue_time nulls\n",
    "tix_jul18_dec18 = tix_jul18_dec18[tix_jul18_dec18['issue_time'].notna()]\n",
    "\n",
    "#drop issue_time rows that don't have proper format\n",
    "tix_jul18_dec18 = tix_jul18_dec18[tix_jul18_dec18['issue_time'].str.len()==8]"
   ]
  },
  {
   "cell_type": "code",
   "execution_count": 14,
   "id": "c673524a-fd64-4621-99ab-0e80e30d8327",
   "metadata": {},
   "outputs": [
    {
     "data": {
      "text/plain": [
       "0    2018/08/11\n",
       "1    2018/08/09\n",
       "3    2018/08/14\n",
       "4    2018/08/23\n",
       "5    2018/08/23\n",
       "Name: issue_date, dtype: object"
      ]
     },
     "execution_count": 14,
     "metadata": {},
     "output_type": "execute_result"
    }
   ],
   "source": [
    "#remove characters after space in issue date\n",
    "tix_jul18_dec18['issue_date'] = tix_jul18_dec18['issue_date'].str.split().str[0]\n",
    "tix_jul18_dec18['issue_date'].head()"
   ]
  },
  {
   "cell_type": "code",
   "execution_count": 15,
   "id": "94ebd0f3-6173-4aa9-9f8f-a9f741096c35",
   "metadata": {},
   "outputs": [
    {
     "data": {
      "text/plain": [
       "0    2018/08/11 09:00 AM\n",
       "1    2018/08/09 09:15 AM\n",
       "Name: issue_datetime, dtype: object"
      ]
     },
     "execution_count": 15,
     "metadata": {},
     "output_type": "execute_result"
    }
   ],
   "source": [
    "#create new column date plus time\n",
    "tix_jul18_dec18['issue_datetime']= tix_jul18_dec18['issue_date']+' '+tix_jul18_dec18['issue_time']\n",
    "tix_jul18_dec18['issue_datetime'].head(2)"
   ]
  },
  {
   "cell_type": "code",
   "execution_count": 16,
   "id": "01f5727a-4cae-498e-8c32-58ecc7b9aa41",
   "metadata": {},
   "outputs": [
    {
     "data": {
      "text/plain": [
       "0   2018-08-11 09:00:00\n",
       "Name: issue_datetime, dtype: datetime64[ns]"
      ]
     },
     "execution_count": 16,
     "metadata": {},
     "output_type": "execute_result"
    }
   ],
   "source": [
    "#convert to date time format\n",
    "tix_jul18_dec18['issue_datetime'] = tix_jul18_dec18['issue_datetime'].astype('datetime64[ns]')\n",
    "tix_jul18_dec18['issue_datetime'].head(1)"
   ]
  },
  {
   "cell_type": "code",
   "execution_count": 17,
   "id": "6a535af0-0688-4f0e-8c06-6e6dd45083f7",
   "metadata": {},
   "outputs": [],
   "source": [
    "#add columns for year, month, date, dayofweek, hour, minute\n",
    "tix_jul18_dec18['year'] = tix_jul18_dec18['issue_datetime'].dt.year\n",
    "tix_jul18_dec18['month'] = tix_jul18_dec18['issue_datetime'].dt.month\n",
    "tix_jul18_dec18['date'] = tix_jul18_dec18['issue_datetime'].dt.day\n",
    "tix_jul18_dec18['day'] = tix_jul18_dec18['issue_datetime'].dt.dayofweek\n",
    "tix_jul18_dec18['hour'] = tix_jul18_dec18['issue_datetime'].dt.hour\n",
    "tix_jul18_dec18['minute'] = tix_jul18_dec18['issue_datetime'].dt.minute"
   ]
  },
  {
   "cell_type": "code",
   "execution_count": 18,
   "id": "30311bf1-ccb6-402a-a368-1048f0518ee8",
   "metadata": {},
   "outputs": [],
   "source": [
    "#drop unused columns\n",
    "tix_jul18_dec18.drop(columns=['issue_date','issue_time','issue_datetime'],inplace=True)\n",
    "\n",
    "# dropping rows with NaN values in these columns\n",
    "tix_jul18_dec18.dropna(axis=0, subset=['xcoord','ycoord','latitude','longitude','mar_id'], inplace=True)\n",
    "\n",
    "# Dropping mar_id column\n",
    "tix_jul18_dec18.drop(columns=['mar_id'],inplace=True)\n",
    "\n",
    "# dropping rows with NaN values in these columns\n",
    "tix_jul18_dec18.dropna(axis=0, subset=['violation_proc_desc','fine_amount'], inplace=True)"
   ]
  },
  {
   "cell_type": "code",
   "execution_count": 19,
   "id": "8ad7b820-425e-4650-97a6-e7af15c7b08b",
   "metadata": {},
   "outputs": [
    {
     "data": {
      "text/plain": [
       "objectid                0\n",
       "issuing_agency_code     0\n",
       "issuing_agency_name     0\n",
       "issuing_agency_short    0\n",
       "violation_code          0\n",
       "violation_proc_desc     0\n",
       "location                0\n",
       "disposition_type        0\n",
       "fine_amount             0\n",
       "total_paid              0\n",
       "xcoord                  0\n",
       "ycoord                  0\n",
       "latitude                0\n",
       "longitude               0\n",
       "year                    0\n",
       "month                   0\n",
       "date                    0\n",
       "day                     0\n",
       "hour                    0\n",
       "minute                  0\n",
       "dtype: int64"
      ]
     },
     "execution_count": 19,
     "metadata": {},
     "output_type": "execute_result"
    }
   ],
   "source": [
    "tix_jul18_dec18.isnull().sum()"
   ]
  },
  {
   "cell_type": "code",
   "execution_count": 20,
   "id": "20f1a069-2ee7-43d1-ba24-03c822691f28",
   "metadata": {},
   "outputs": [
    {
     "data": {
      "text/plain": [
       "(641385, 20)"
      ]
     },
     "execution_count": 20,
     "metadata": {},
     "output_type": "execute_result"
    }
   ],
   "source": [
    "tix_jul18_dec18.shape"
   ]
  },
  {
   "cell_type": "code",
   "execution_count": 21,
   "id": "4250265c-ce54-4d44-aa77-58ac6dac6858",
   "metadata": {},
   "outputs": [],
   "source": [
    "# Saving cleaned dataset for my months\n",
    "# tix_jul18_dec18.to_csv('data/boris_months.csv', index=False)"
   ]
  },
  {
   "cell_type": "code",
   "execution_count": null,
   "id": "afd223c3-ce11-416a-a540-4d6ddd88cf4c",
   "metadata": {},
   "outputs": [],
   "source": []
  },
  {
   "cell_type": "code",
   "execution_count": null,
   "id": "dde5b831-14fc-4e59-8099-3093ca2d39f9",
   "metadata": {},
   "outputs": [],
   "source": []
  },
  {
   "cell_type": "code",
   "execution_count": null,
   "id": "16a058d8-3b3a-46a1-9fca-b7f2157c561e",
   "metadata": {},
   "outputs": [],
   "source": []
  }
 ],
 "metadata": {
  "kernelspec": {
   "display_name": "Python 3",
   "language": "python",
   "name": "python3"
  },
  "language_info": {
   "codemirror_mode": {
    "name": "ipython",
    "version": 3
   },
   "file_extension": ".py",
   "mimetype": "text/x-python",
   "name": "python",
   "nbconvert_exporter": "python",
   "pygments_lexer": "ipython3",
   "version": "3.8.8"
  }
 },
 "nbformat": 4,
 "nbformat_minor": 5
}
