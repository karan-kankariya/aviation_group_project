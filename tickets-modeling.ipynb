{
 "cells": [
  {
   "cell_type": "code",
   "execution_count": 28,
   "id": "0fd502e9-2913-4945-b4ab-8527bf892d23",
   "metadata": {},
   "outputs": [],
   "source": [
    "# imports\n",
    "import matplotlib.pyplot as plt\n",
    "import numpy as np\n",
    "import pandas as pd\n",
    "import seaborn as sns\n",
    "\n",
    "# Import train_test_split.\n",
    "from sklearn.model_selection import train_test_split\n",
    "\n",
    "# Import logistic regression\n",
    "from sklearn.linear_model import LogisticRegression\n",
    "\n",
    "from sklearn.neighbors import KNeighborsClassifier\n",
    "from sklearn.preprocessing import StandardScaler"
   ]
  },
  {
   "cell_type": "code",
   "execution_count": 16,
   "id": "408b26fc-8623-409f-836c-976d894f5bd2",
   "metadata": {},
   "outputs": [],
   "source": [
    "tickets = pd.read_csv('./Data/clean_tickets_dc.csv')"
   ]
  },
  {
   "cell_type": "code",
   "execution_count": 17,
   "id": "862d8081-fb9b-4751-990e-b0a80ae385df",
   "metadata": {},
   "outputs": [],
   "source": [
    "tickets = tickets.drop(columns=['objectid','issuing_agency_short','violation_code','total_paid','latitude','longitude','day','hour','minute','loc_tokens','quadrant','date'])"
   ]
  },
  {
   "cell_type": "code",
   "execution_count": 18,
   "id": "672481e2-80f6-41de-95b4-d3c458f7d89c",
   "metadata": {},
   "outputs": [],
   "source": [
    "ticket_dummy = pd.get_dummies(tickets,columns=['issuing_agency_name','violation_proc_desc','month'])"
   ]
  },
  {
   "cell_type": "code",
   "execution_count": null,
   "id": "f2f1fc5e-104b-4080-87ed-c703e3173f3f",
   "metadata": {},
   "outputs": [],
   "source": []
  },
  {
   "cell_type": "code",
   "execution_count": 20,
   "id": "30f8bfce-ff03-42d0-9f59-2942018dfc6f",
   "metadata": {},
   "outputs": [],
   "source": [
    "X = ticket_dummy.drop(columns='disposition_type')\n",
    "y = ticket_dummy['disposition_type']"
   ]
  },
  {
   "cell_type": "code",
   "execution_count": 24,
   "id": "f4d99f7a-286f-4e49-b70c-c36655643d81",
   "metadata": {},
   "outputs": [],
   "source": [
    "X_train, X_test, y_train, y_test = train_test_split(X,y,stratify=y,random_state=42)"
   ]
  },
  {
   "cell_type": "code",
   "execution_count": 25,
   "id": "2fba153c-acf5-4369-884b-a7088946d657",
   "metadata": {},
   "outputs": [
    {
     "name": "stderr",
     "output_type": "stream",
     "text": [
      "/Users/reedhuston/opt/anaconda3/lib/python3.8/site-packages/sklearn/linear_model/_logistic.py:763: ConvergenceWarning: lbfgs failed to converge (status=1):\n",
      "STOP: TOTAL NO. of ITERATIONS REACHED LIMIT.\n",
      "\n",
      "Increase the number of iterations (max_iter) or scale the data as shown in:\n",
      "    https://scikit-learn.org/stable/modules/preprocessing.html\n",
      "Please also refer to the documentation for alternative solver options:\n",
      "    https://scikit-learn.org/stable/modules/linear_model.html#logistic-regression\n",
      "  n_iter_i = _check_optimize_result(\n"
     ]
    },
    {
     "data": {
      "text/plain": [
       "LogisticRegression()"
      ]
     },
     "execution_count": 25,
     "metadata": {},
     "output_type": "execute_result"
    }
   ],
   "source": [
    "lr = LogisticRegression()\n",
    "lr.fit(X_train,y_train)"
   ]
  },
  {
   "cell_type": "code",
   "execution_count": 37,
   "id": "649e337c-0135-48d8-8dfc-8bbcbf39b582",
   "metadata": {},
   "outputs": [
    {
     "data": {
      "text/plain": [
       "Liable       0.819908\n",
       "Dismissed    0.180092\n",
       "Name: disposition_type, dtype: float64"
      ]
     },
     "execution_count": 37,
     "metadata": {},
     "output_type": "execute_result"
    }
   ],
   "source": [
    "ticket_dummy['disposition_type'].value_counts(normalize=True)"
   ]
  },
  {
   "cell_type": "code",
   "execution_count": 26,
   "id": "bc55326d-bb7e-4992-9e9d-62bb8216163c",
   "metadata": {},
   "outputs": [
    {
     "data": {
      "text/plain": [
       "0.8193668000698613"
      ]
     },
     "execution_count": 26,
     "metadata": {},
     "output_type": "execute_result"
    }
   ],
   "source": [
    "lr.score(X_train,y_train)"
   ]
  },
  {
   "cell_type": "code",
   "execution_count": 27,
   "id": "c62a654f-6cd6-4f4b-b788-b4ad3cd31afd",
   "metadata": {},
   "outputs": [
    {
     "data": {
      "text/plain": [
       "0.819641737572772"
      ]
     },
     "execution_count": 27,
     "metadata": {},
     "output_type": "execute_result"
    }
   ],
   "source": [
    "lr.score(X_test,y_test)"
   ]
  },
  {
   "cell_type": "code",
   "execution_count": 29,
   "id": "d31980ca-fd59-41fe-a2ce-15677d7d479b",
   "metadata": {},
   "outputs": [
    {
     "data": {
      "text/plain": [
       "StandardScaler()"
      ]
     },
     "execution_count": 29,
     "metadata": {},
     "output_type": "execute_result"
    }
   ],
   "source": [
    "ss = StandardScaler()\n",
    "ss.fit(X_train)"
   ]
  },
  {
   "cell_type": "code",
   "execution_count": 30,
   "id": "66966257-f162-477c-aa08-7ece1762542e",
   "metadata": {},
   "outputs": [],
   "source": [
    "X_train_sc = ss.transform(X_train)"
   ]
  },
  {
   "cell_type": "code",
   "execution_count": 31,
   "id": "fd783f4e-fdc7-4844-a2ce-4a590570399e",
   "metadata": {},
   "outputs": [],
   "source": [
    "X_test_sc = ss.transform(X_test)"
   ]
  },
  {
   "cell_type": "code",
   "execution_count": 32,
   "id": "64b1a4b3-acef-45a1-bb6d-a82b3e9c8b2a",
   "metadata": {},
   "outputs": [],
   "source": [
    "knn = KNeighborsClassifier()"
   ]
  },
  {
   "cell_type": "code",
   "execution_count": 33,
   "id": "b0e6d944-3370-4307-9243-f591255fbbee",
   "metadata": {},
   "outputs": [
    {
     "data": {
      "text/plain": [
       "KNeighborsClassifier()"
      ]
     },
     "execution_count": 33,
     "metadata": {},
     "output_type": "execute_result"
    }
   ],
   "source": [
    "knn.fit(X_train_sc, y_train)"
   ]
  },
  {
   "cell_type": "code",
   "execution_count": 34,
   "id": "3ed07a45-c1c4-4564-9cd9-127951bd3b4f",
   "metadata": {},
   "outputs": [
    {
     "data": {
      "text/plain": [
       "0.8264171166101159"
      ]
     },
     "execution_count": 34,
     "metadata": {},
     "output_type": "execute_result"
    }
   ],
   "source": [
    "knn.score(X_train_sc, y_train)"
   ]
  },
  {
   "cell_type": "code",
   "execution_count": 35,
   "id": "64b9cb3f-3b2c-45fd-b8ae-6cd1744d2cba",
   "metadata": {},
   "outputs": [
    {
     "data": {
      "text/plain": [
       "0.810282131661442"
      ]
     },
     "execution_count": 35,
     "metadata": {},
     "output_type": "execute_result"
    }
   ],
   "source": [
    "knn.score(X_test_sc, y_test)"
   ]
  },
  {
   "cell_type": "code",
   "execution_count": null,
   "id": "829e6de4-81e5-4e9d-94fd-71e49d0266ee",
   "metadata": {},
   "outputs": [],
   "source": []
  }
 ],
 "metadata": {
  "kernelspec": {
   "display_name": "Python 3",
   "language": "python",
   "name": "python3"
  },
  "language_info": {
   "codemirror_mode": {
    "name": "ipython",
    "version": 3
   },
   "file_extension": ".py",
   "mimetype": "text/x-python",
   "name": "python",
   "nbconvert_exporter": "python",
   "pygments_lexer": "ipython3",
   "version": "3.8.8"
  }
 },
 "nbformat": 4,
 "nbformat_minor": 5
}
