{
 "cells": [
  {
   "cell_type": "markdown",
   "id": "b3f475d7-8848-4ed6-bc9d-982f6c14526a",
   "metadata": {},
   "source": [
    "## Data Cleaning"
   ]
  },
  {
   "cell_type": "code",
   "execution_count": 1,
   "id": "0a4a56b7-5fec-4f22-9393-0e0cd90f677a",
   "metadata": {},
   "outputs": [],
   "source": [
    "import pandas as pd\n",
    "import glob"
   ]
  },
  {
   "cell_type": "code",
   "execution_count": 2,
   "id": "c89ed731-a9b2-42ec-82e7-d87396c20da1",
   "metadata": {},
   "outputs": [],
   "source": [
    "# Write a function to read all files in the path are csv file\n",
    "def get_dataframe(path):\n",
    "    all_files = glob.glob(path + \"/*.csv\")    # Create a list contains all file names\n",
    "    li = []\n",
    "    for filename in all_files:   # Read file names from the list, add files to new list\n",
    "        df = pd.read_csv(filename, index_col=None, header=0)\n",
    "        li.append(df)\n",
    "    frame = pd.concat(li, axis=0, ignore_index=True)  # concatenant all files\n",
    "    return frame"
   ]
  },
  {
   "cell_type": "code",
   "execution_count": 3,
   "id": "0fb42d7b-7c50-4b36-89b4-1ad5779a4910",
   "metadata": {},
   "outputs": [
    {
     "name": "stderr",
     "output_type": "stream",
     "text": [
      "/Users/jiachengxu/opt/anaconda3/lib/python3.8/site-packages/IPython/core/interactiveshell.py:3357: DtypeWarning: Columns (12) have mixed types.Specify dtype option on import or set low_memory=False.\n",
      "  if (await self.run_code(code, result,  async_=asy)):\n"
     ]
    }
   ],
   "source": [
    "# Read files\n",
    "df = get_dataframe('data')"
   ]
  },
  {
   "cell_type": "code",
   "execution_count": 4,
   "id": "0c4450a0-8803-47f2-a8b6-db53c8cfcbeb",
   "metadata": {},
   "outputs": [
    {
     "data": {
      "text/html": [
       "<div>\n",
       "<style scoped>\n",
       "    .dataframe tbody tr th:only-of-type {\n",
       "        vertical-align: middle;\n",
       "    }\n",
       "\n",
       "    .dataframe tbody tr th {\n",
       "        vertical-align: top;\n",
       "    }\n",
       "\n",
       "    .dataframe thead th {\n",
       "        text-align: right;\n",
       "    }\n",
       "</style>\n",
       "<table border=\"1\" class=\"dataframe\">\n",
       "  <thead>\n",
       "    <tr style=\"text-align: right;\">\n",
       "      <th></th>\n",
       "      <th>OBJECTID</th>\n",
       "      <th>TICKET_NUMBER</th>\n",
       "      <th>VIOLATION_TYPE_DESC</th>\n",
       "      <th>ISSUE_DATE</th>\n",
       "      <th>ISSUE_TIME</th>\n",
       "      <th>ISSUING_AGENCY_CODE</th>\n",
       "      <th>ISSUING_AGENCY_NAME</th>\n",
       "      <th>ISSUING_AGENCY_SHORT</th>\n",
       "      <th>VIOLATION_CODE</th>\n",
       "      <th>VIOLATION_PROC_DESC</th>\n",
       "      <th>...</th>\n",
       "      <th>PENALTY_2</th>\n",
       "      <th>PENALTY_3</th>\n",
       "      <th>PENALTY_4</th>\n",
       "      <th>PENALTY_5</th>\n",
       "      <th>XCOORD</th>\n",
       "      <th>YCOORD</th>\n",
       "      <th>LATITUDE</th>\n",
       "      <th>LONGITUDE</th>\n",
       "      <th>MAR_ID</th>\n",
       "      <th>GIS_LAST_MOD_DTTM</th>\n",
       "    </tr>\n",
       "  </thead>\n",
       "  <tbody>\n",
       "    <tr>\n",
       "      <th>0</th>\n",
       "      <td>60327097</td>\n",
       "      <td>260055165.0</td>\n",
       "      <td>P</td>\n",
       "      <td>2017/09/05 04:00:00+00</td>\n",
       "      <td>11:30:00</td>\n",
       "      <td>80.0</td>\n",
       "      <td>AMTRAK</td>\n",
       "      <td>AMTRK</td>\n",
       "      <td>P170</td>\n",
       "      <td>FAILURE TO DISPLAY CURRENT TAGS</td>\n",
       "      <td>...</td>\n",
       "      <td>NaN</td>\n",
       "      <td>NaN</td>\n",
       "      <td>NaN</td>\n",
       "      <td>NaN</td>\n",
       "      <td>399661.0</td>\n",
       "      <td>137013.0</td>\n",
       "      <td>38.901</td>\n",
       "      <td>-77.004</td>\n",
       "      <td>81638.0</td>\n",
       "      <td>2019/05/29 04:16:08+00</td>\n",
       "    </tr>\n",
       "    <tr>\n",
       "      <th>1</th>\n",
       "      <td>60345241</td>\n",
       "      <td>260925825.0</td>\n",
       "      <td>P</td>\n",
       "      <td>2017/09/26 04:00:00+00</td>\n",
       "      <td>10:35:00</td>\n",
       "      <td>57.0</td>\n",
       "      <td>METRO POLICE</td>\n",
       "      <td>MTP</td>\n",
       "      <td>P039</td>\n",
       "      <td>PARK AT EXPIRED METER</td>\n",
       "      <td>...</td>\n",
       "      <td>NaN</td>\n",
       "      <td>1.0</td>\n",
       "      <td>NaN</td>\n",
       "      <td>NaN</td>\n",
       "      <td>401049.0</td>\n",
       "      <td>130794.0</td>\n",
       "      <td>38.845</td>\n",
       "      <td>-76.988</td>\n",
       "      <td>294864.0</td>\n",
       "      <td>2019/05/29 04:16:08+00</td>\n",
       "    </tr>\n",
       "    <tr>\n",
       "      <th>2</th>\n",
       "      <td>60345242</td>\n",
       "      <td>260925836.0</td>\n",
       "      <td>P</td>\n",
       "      <td>2017/09/26 04:00:00+00</td>\n",
       "      <td>11:35:00</td>\n",
       "      <td>57.0</td>\n",
       "      <td>METRO POLICE</td>\n",
       "      <td>MTP</td>\n",
       "      <td>P039</td>\n",
       "      <td>PARK AT EXPIRED METER</td>\n",
       "      <td>...</td>\n",
       "      <td>NaN</td>\n",
       "      <td>1.0</td>\n",
       "      <td>NaN</td>\n",
       "      <td>NaN</td>\n",
       "      <td>401049.0</td>\n",
       "      <td>130794.0</td>\n",
       "      <td>38.845</td>\n",
       "      <td>-76.988</td>\n",
       "      <td>294864.0</td>\n",
       "      <td>2019/05/29 04:16:08+00</td>\n",
       "    </tr>\n",
       "    <tr>\n",
       "      <th>3</th>\n",
       "      <td>60345243</td>\n",
       "      <td>260925840.0</td>\n",
       "      <td>P</td>\n",
       "      <td>2017/09/26 04:00:00+00</td>\n",
       "      <td>11:40:00</td>\n",
       "      <td>57.0</td>\n",
       "      <td>METRO POLICE</td>\n",
       "      <td>MTP</td>\n",
       "      <td>P170</td>\n",
       "      <td>FAILURE TO DISPLAY CURRENT TAGS</td>\n",
       "      <td>...</td>\n",
       "      <td>NaN</td>\n",
       "      <td>4.0</td>\n",
       "      <td>NaN</td>\n",
       "      <td>NaN</td>\n",
       "      <td>401049.0</td>\n",
       "      <td>130794.0</td>\n",
       "      <td>38.845</td>\n",
       "      <td>-76.988</td>\n",
       "      <td>294864.0</td>\n",
       "      <td>2019/05/29 04:16:08+00</td>\n",
       "    </tr>\n",
       "    <tr>\n",
       "      <th>4</th>\n",
       "      <td>60345244</td>\n",
       "      <td>260925851.0</td>\n",
       "      <td>P</td>\n",
       "      <td>2017/09/26 04:00:00+00</td>\n",
       "      <td>11:41:00</td>\n",
       "      <td>57.0</td>\n",
       "      <td>METRO POLICE</td>\n",
       "      <td>MTP</td>\n",
       "      <td>P039</td>\n",
       "      <td>PARK AT EXPIRED METER</td>\n",
       "      <td>...</td>\n",
       "      <td>NaN</td>\n",
       "      <td>NaN</td>\n",
       "      <td>NaN</td>\n",
       "      <td>NaN</td>\n",
       "      <td>401049.0</td>\n",
       "      <td>130794.0</td>\n",
       "      <td>38.845</td>\n",
       "      <td>-76.988</td>\n",
       "      <td>294864.0</td>\n",
       "      <td>2019/05/29 04:16:08+00</td>\n",
       "    </tr>\n",
       "  </tbody>\n",
       "</table>\n",
       "<p>5 rows × 31 columns</p>\n",
       "</div>"
      ],
      "text/plain": [
       "   OBJECTID  TICKET_NUMBER VIOLATION_TYPE_DESC              ISSUE_DATE  \\\n",
       "0  60327097    260055165.0                   P  2017/09/05 04:00:00+00   \n",
       "1  60345241    260925825.0                   P  2017/09/26 04:00:00+00   \n",
       "2  60345242    260925836.0                   P  2017/09/26 04:00:00+00   \n",
       "3  60345243    260925840.0                   P  2017/09/26 04:00:00+00   \n",
       "4  60345244    260925851.0                   P  2017/09/26 04:00:00+00   \n",
       "\n",
       "  ISSUE_TIME  ISSUING_AGENCY_CODE ISSUING_AGENCY_NAME ISSUING_AGENCY_SHORT  \\\n",
       "0   11:30:00                 80.0              AMTRAK                AMTRK   \n",
       "1   10:35:00                 57.0        METRO POLICE                  MTP   \n",
       "2   11:35:00                 57.0        METRO POLICE                  MTP   \n",
       "3   11:40:00                 57.0        METRO POLICE                  MTP   \n",
       "4   11:41:00                 57.0        METRO POLICE                  MTP   \n",
       "\n",
       "  VIOLATION_CODE              VIOLATION_PROC_DESC  ... PENALTY_2 PENALTY_3  \\\n",
       "0           P170  FAILURE TO DISPLAY CURRENT TAGS  ...       NaN       NaN   \n",
       "1           P039            PARK AT EXPIRED METER  ...       NaN       1.0   \n",
       "2           P039            PARK AT EXPIRED METER  ...       NaN       1.0   \n",
       "3           P170  FAILURE TO DISPLAY CURRENT TAGS  ...       NaN       4.0   \n",
       "4           P039            PARK AT EXPIRED METER  ...       NaN       NaN   \n",
       "\n",
       "  PENALTY_4  PENALTY_5    XCOORD    YCOORD LATITUDE LONGITUDE    MAR_ID  \\\n",
       "0       NaN        NaN  399661.0  137013.0   38.901   -77.004   81638.0   \n",
       "1       NaN        NaN  401049.0  130794.0   38.845   -76.988  294864.0   \n",
       "2       NaN        NaN  401049.0  130794.0   38.845   -76.988  294864.0   \n",
       "3       NaN        NaN  401049.0  130794.0   38.845   -76.988  294864.0   \n",
       "4       NaN        NaN  401049.0  130794.0   38.845   -76.988  294864.0   \n",
       "\n",
       "        GIS_LAST_MOD_DTTM  \n",
       "0  2019/05/29 04:16:08+00  \n",
       "1  2019/05/29 04:16:08+00  \n",
       "2  2019/05/29 04:16:08+00  \n",
       "3  2019/05/29 04:16:08+00  \n",
       "4  2019/05/29 04:16:08+00  \n",
       "\n",
       "[5 rows x 31 columns]"
      ]
     },
     "execution_count": 4,
     "metadata": {},
     "output_type": "execute_result"
    }
   ],
   "source": [
    "df.head()"
   ]
  },
  {
   "cell_type": "code",
   "execution_count": 5,
   "id": "bd4d05b0-e902-4583-af17-32e7ec88bc6c",
   "metadata": {},
   "outputs": [
    {
     "data": {
      "text/plain": [
       "Index(['OBJECTID', 'TICKET_NUMBER', 'VIOLATION_TYPE_DESC', 'ISSUE_DATE',\n",
       "       'ISSUE_TIME', 'ISSUING_AGENCY_CODE', 'ISSUING_AGENCY_NAME',\n",
       "       'ISSUING_AGENCY_SHORT', 'VIOLATION_CODE', 'VIOLATION_PROC_DESC',\n",
       "       'LOCATION', 'PLATE_STATE', 'VEHICLE_TYPE', 'MULTI_OWNER_NUMBER',\n",
       "       'DISPOSITION_CODE', 'DISPOSITION_TYPE', 'DISPOSITION_DESC',\n",
       "       'DISPOSITION_DATE', 'FINE_AMOUNT', 'TOTAL_PAID', 'PENALTY_1',\n",
       "       'PENALTY_2', 'PENALTY_3', 'PENALTY_4', 'PENALTY_5', 'XCOORD', 'YCOORD',\n",
       "       'LATITUDE', 'LONGITUDE', 'MAR_ID', 'GIS_LAST_MOD_DTTM'],\n",
       "      dtype='object')"
      ]
     },
     "execution_count": 5,
     "metadata": {},
     "output_type": "execute_result"
    }
   ],
   "source": [
    "df.columns"
   ]
  },
  {
   "cell_type": "code",
   "execution_count": 6,
   "id": "71e664f2-fa94-44f7-905d-b40fdc19510c",
   "metadata": {},
   "outputs": [
    {
     "data": {
      "text/plain": [
       "0                      FAILURE TO DISPLAY CURRENT TAGS\n",
       "1                                PARK AT EXPIRED METER\n",
       "2                                PARK AT EXPIRED METER\n",
       "3                      FAILURE TO DISPLAY CURRENT TAGS\n",
       "4                                PARK AT EXPIRED METER\n",
       "                              ...                     \n",
       "684103    NO STOPPING OR STANDING IN PM RUSH HOUR ZONE\n",
       "684104                 FAILURE TO DISPLAY CURRENT TAGS\n",
       "684105    NO STOPPING OR STANDING IN PM RUSH HOUR ZONE\n",
       "684106    NO STOPPING OR STANDING IN PM RUSH HOUR ZONE\n",
       "684107    NO STOPPING OR STANDING IN PM RUSH HOUR ZONE\n",
       "Name: VIOLATION_PROC_DESC, Length: 684108, dtype: object"
      ]
     },
     "execution_count": 6,
     "metadata": {},
     "output_type": "execute_result"
    }
   ],
   "source": [
    "df['VIOLATION_PROC_DESC']"
   ]
  },
  {
   "cell_type": "code",
   "execution_count": 7,
   "id": "16cc18f9-47c3-4fcb-8491-4b45c76d6481",
   "metadata": {},
   "outputs": [
    {
     "data": {
      "text/plain": [
       "OBJECTID                     0\n",
       "TICKET_NUMBER           240977\n",
       "VIOLATION_TYPE_DESC     240977\n",
       "ISSUE_DATE                   0\n",
       "ISSUE_TIME                 456\n",
       "ISSUING_AGENCY_CODE         35\n",
       "ISSUING_AGENCY_NAME         35\n",
       "ISSUING_AGENCY_SHORT        35\n",
       "VIOLATION_CODE               0\n",
       "VIOLATION_PROC_DESC      20590\n",
       "LOCATION                   113\n",
       "PLATE_STATE                  0\n",
       "VEHICLE_TYPE            684107\n",
       "MULTI_OWNER_NUMBER      649125\n",
       "DISPOSITION_CODE        396425\n",
       "DISPOSITION_TYPE             0\n",
       "DISPOSITION_DESC        396425\n",
       "DISPOSITION_DATE        396425\n",
       "FINE_AMOUNT              21312\n",
       "TOTAL_PAID                   0\n",
       "PENALTY_1               415045\n",
       "PENALTY_2               684108\n",
       "PENALTY_3               551436\n",
       "PENALTY_4               683957\n",
       "PENALTY_5               684108\n",
       "XCOORD                   20892\n",
       "YCOORD                   20892\n",
       "LATITUDE                 20892\n",
       "LONGITUDE                20892\n",
       "MAR_ID                   20892\n",
       "GIS_LAST_MOD_DTTM            0\n",
       "dtype: int64"
      ]
     },
     "execution_count": 7,
     "metadata": {},
     "output_type": "execute_result"
    }
   ],
   "source": [
    "df.isnull().sum()"
   ]
  },
  {
   "cell_type": "code",
   "execution_count": 8,
   "id": "c12c303f-e755-4402-b17a-a705eb14b17b",
   "metadata": {},
   "outputs": [
    {
     "data": {
      "text/plain": [
       "(684108, 31)"
      ]
     },
     "execution_count": 8,
     "metadata": {},
     "output_type": "execute_result"
    }
   ],
   "source": [
    "df.shape"
   ]
  },
  {
   "cell_type": "code",
   "execution_count": 9,
   "id": "4eefae92-3b1d-4a1c-af6a-08f1e5b608cc",
   "metadata": {},
   "outputs": [],
   "source": [
    "#columns with >80% nulls\n",
    "df.drop(columns=['DISPOSITION_CODE','DISPOSITION_DATE','PENALTY_1', 'TICKET_NUMBER',\n",
    "                'VIOLATION_TYPE_DESC','PENALTY_2','PENALTY_3','PENALTY_4','PENALTY_5',\n",
    "                'GIS_LAST_MOD_DTTM','VEHICLE_TYPE','PLATE_STATE','MULTI_OWNER_NUMBER','DISPOSITION_DESC'],inplace=True)"
   ]
  },
  {
   "cell_type": "code",
   "execution_count": 10,
   "id": "a3d17575-2e0a-4497-8461-e0248c154f8b",
   "metadata": {},
   "outputs": [
    {
     "data": {
      "text/html": [
       "<div>\n",
       "<style scoped>\n",
       "    .dataframe tbody tr th:only-of-type {\n",
       "        vertical-align: middle;\n",
       "    }\n",
       "\n",
       "    .dataframe tbody tr th {\n",
       "        vertical-align: top;\n",
       "    }\n",
       "\n",
       "    .dataframe thead th {\n",
       "        text-align: right;\n",
       "    }\n",
       "</style>\n",
       "<table border=\"1\" class=\"dataframe\">\n",
       "  <thead>\n",
       "    <tr style=\"text-align: right;\">\n",
       "      <th></th>\n",
       "      <th>OBJECTID</th>\n",
       "      <th>ISSUE_DATE</th>\n",
       "      <th>ISSUE_TIME</th>\n",
       "      <th>ISSUING_AGENCY_CODE</th>\n",
       "      <th>ISSUING_AGENCY_NAME</th>\n",
       "      <th>ISSUING_AGENCY_SHORT</th>\n",
       "      <th>VIOLATION_CODE</th>\n",
       "      <th>VIOLATION_PROC_DESC</th>\n",
       "      <th>LOCATION</th>\n",
       "      <th>DISPOSITION_TYPE</th>\n",
       "      <th>FINE_AMOUNT</th>\n",
       "      <th>TOTAL_PAID</th>\n",
       "      <th>XCOORD</th>\n",
       "      <th>YCOORD</th>\n",
       "      <th>LATITUDE</th>\n",
       "      <th>LONGITUDE</th>\n",
       "      <th>MAR_ID</th>\n",
       "    </tr>\n",
       "  </thead>\n",
       "  <tbody>\n",
       "    <tr>\n",
       "      <th>0</th>\n",
       "      <td>60327097</td>\n",
       "      <td>2017/09/05 04:00:00+00</td>\n",
       "      <td>11:30:00</td>\n",
       "      <td>80.0</td>\n",
       "      <td>AMTRAK</td>\n",
       "      <td>AMTRK</td>\n",
       "      <td>P170</td>\n",
       "      <td>FAILURE TO DISPLAY CURRENT TAGS</td>\n",
       "      <td>900 2ND ST NE</td>\n",
       "      <td>Dismissed</td>\n",
       "      <td>100.0</td>\n",
       "      <td>0</td>\n",
       "      <td>399661.0</td>\n",
       "      <td>137013.0</td>\n",
       "      <td>38.901</td>\n",
       "      <td>-77.004</td>\n",
       "      <td>81638.0</td>\n",
       "    </tr>\n",
       "    <tr>\n",
       "      <th>1</th>\n",
       "      <td>60345241</td>\n",
       "      <td>2017/09/26 04:00:00+00</td>\n",
       "      <td>10:35:00</td>\n",
       "      <td>57.0</td>\n",
       "      <td>METRO POLICE</td>\n",
       "      <td>MTP</td>\n",
       "      <td>P039</td>\n",
       "      <td>PARK AT EXPIRED METER</td>\n",
       "      <td>1290 ALBAMA AVE SE</td>\n",
       "      <td>Liable - System</td>\n",
       "      <td>25.0</td>\n",
       "      <td>60</td>\n",
       "      <td>401049.0</td>\n",
       "      <td>130794.0</td>\n",
       "      <td>38.845</td>\n",
       "      <td>-76.988</td>\n",
       "      <td>294864.0</td>\n",
       "    </tr>\n",
       "    <tr>\n",
       "      <th>2</th>\n",
       "      <td>60345242</td>\n",
       "      <td>2017/09/26 04:00:00+00</td>\n",
       "      <td>11:35:00</td>\n",
       "      <td>57.0</td>\n",
       "      <td>METRO POLICE</td>\n",
       "      <td>MTP</td>\n",
       "      <td>P039</td>\n",
       "      <td>PARK AT EXPIRED METER</td>\n",
       "      <td>1290 ALABAMA AV SE</td>\n",
       "      <td>Liable - System</td>\n",
       "      <td>25.0</td>\n",
       "      <td>60</td>\n",
       "      <td>401049.0</td>\n",
       "      <td>130794.0</td>\n",
       "      <td>38.845</td>\n",
       "      <td>-76.988</td>\n",
       "      <td>294864.0</td>\n",
       "    </tr>\n",
       "    <tr>\n",
       "      <th>3</th>\n",
       "      <td>60345243</td>\n",
       "      <td>2017/09/26 04:00:00+00</td>\n",
       "      <td>11:40:00</td>\n",
       "      <td>57.0</td>\n",
       "      <td>METRO POLICE</td>\n",
       "      <td>MTP</td>\n",
       "      <td>P170</td>\n",
       "      <td>FAILURE TO DISPLAY CURRENT TAGS</td>\n",
       "      <td>1290 ALABAMA AV SE</td>\n",
       "      <td>Liable - System</td>\n",
       "      <td>100.0</td>\n",
       "      <td>240</td>\n",
       "      <td>401049.0</td>\n",
       "      <td>130794.0</td>\n",
       "      <td>38.845</td>\n",
       "      <td>-76.988</td>\n",
       "      <td>294864.0</td>\n",
       "    </tr>\n",
       "    <tr>\n",
       "      <th>4</th>\n",
       "      <td>60345244</td>\n",
       "      <td>2017/09/26 04:00:00+00</td>\n",
       "      <td>11:41:00</td>\n",
       "      <td>57.0</td>\n",
       "      <td>METRO POLICE</td>\n",
       "      <td>MTP</td>\n",
       "      <td>P039</td>\n",
       "      <td>PARK AT EXPIRED METER</td>\n",
       "      <td>1290 ALABAMA AV SE</td>\n",
       "      <td>Other</td>\n",
       "      <td>25.0</td>\n",
       "      <td>25</td>\n",
       "      <td>401049.0</td>\n",
       "      <td>130794.0</td>\n",
       "      <td>38.845</td>\n",
       "      <td>-76.988</td>\n",
       "      <td>294864.0</td>\n",
       "    </tr>\n",
       "  </tbody>\n",
       "</table>\n",
       "</div>"
      ],
      "text/plain": [
       "   OBJECTID              ISSUE_DATE ISSUE_TIME  ISSUING_AGENCY_CODE  \\\n",
       "0  60327097  2017/09/05 04:00:00+00   11:30:00                 80.0   \n",
       "1  60345241  2017/09/26 04:00:00+00   10:35:00                 57.0   \n",
       "2  60345242  2017/09/26 04:00:00+00   11:35:00                 57.0   \n",
       "3  60345243  2017/09/26 04:00:00+00   11:40:00                 57.0   \n",
       "4  60345244  2017/09/26 04:00:00+00   11:41:00                 57.0   \n",
       "\n",
       "  ISSUING_AGENCY_NAME ISSUING_AGENCY_SHORT VIOLATION_CODE  \\\n",
       "0              AMTRAK                AMTRK           P170   \n",
       "1        METRO POLICE                  MTP           P039   \n",
       "2        METRO POLICE                  MTP           P039   \n",
       "3        METRO POLICE                  MTP           P170   \n",
       "4        METRO POLICE                  MTP           P039   \n",
       "\n",
       "               VIOLATION_PROC_DESC            LOCATION DISPOSITION_TYPE  \\\n",
       "0  FAILURE TO DISPLAY CURRENT TAGS       900 2ND ST NE        Dismissed   \n",
       "1            PARK AT EXPIRED METER  1290 ALBAMA AVE SE  Liable - System   \n",
       "2            PARK AT EXPIRED METER  1290 ALABAMA AV SE  Liable - System   \n",
       "3  FAILURE TO DISPLAY CURRENT TAGS  1290 ALABAMA AV SE  Liable - System   \n",
       "4            PARK AT EXPIRED METER  1290 ALABAMA AV SE            Other   \n",
       "\n",
       "   FINE_AMOUNT  TOTAL_PAID    XCOORD    YCOORD  LATITUDE  LONGITUDE    MAR_ID  \n",
       "0        100.0           0  399661.0  137013.0    38.901    -77.004   81638.0  \n",
       "1         25.0          60  401049.0  130794.0    38.845    -76.988  294864.0  \n",
       "2         25.0          60  401049.0  130794.0    38.845    -76.988  294864.0  \n",
       "3        100.0         240  401049.0  130794.0    38.845    -76.988  294864.0  \n",
       "4         25.0          25  401049.0  130794.0    38.845    -76.988  294864.0  "
      ]
     },
     "execution_count": 10,
     "metadata": {},
     "output_type": "execute_result"
    }
   ],
   "source": [
    "df.head()"
   ]
  },
  {
   "cell_type": "code",
   "execution_count": 11,
   "id": "b5df0dfb-f083-4f69-bd9c-ef328b5277de",
   "metadata": {},
   "outputs": [],
   "source": [
    "#lowercase column names\n",
    "df.columns = map(str.lower, df.columns)"
   ]
  },
  {
   "cell_type": "code",
   "execution_count": 12,
   "id": "22185131-7f9a-4a68-b113-d9bf38d7c304",
   "metadata": {},
   "outputs": [],
   "source": [
    "# drop issue_time nulls\n",
    "df = df[df['issue_time'].notna()]\n",
    "# drop issue_time rows that don't have proper format\n",
    "df = df[df['issue_time'].str.len()==8]"
   ]
  },
  {
   "cell_type": "code",
   "execution_count": 13,
   "id": "6a9468ea-2655-45c3-98f7-a6f07781fd2c",
   "metadata": {},
   "outputs": [
    {
     "data": {
      "text/plain": [
       "0    2017/09/05\n",
       "1    2017/09/26\n",
       "2    2017/09/26\n",
       "3    2017/09/26\n",
       "4    2017/09/26\n",
       "Name: issue_date, dtype: object"
      ]
     },
     "execution_count": 13,
     "metadata": {},
     "output_type": "execute_result"
    }
   ],
   "source": [
    "#remove characters after space in issue date\n",
    "df['issue_date'] = df['issue_date'].str.split().str[0]\n",
    "df['issue_date'].head()"
   ]
  },
  {
   "cell_type": "code",
   "execution_count": 14,
   "id": "b38f5ada-9bab-439f-aa88-5e12256a8907",
   "metadata": {},
   "outputs": [
    {
     "data": {
      "text/plain": [
       "0    2017/09/05 11:30:00\n",
       "1    2017/09/26 10:35:00\n",
       "Name: issue_datetime, dtype: object"
      ]
     },
     "execution_count": 14,
     "metadata": {},
     "output_type": "execute_result"
    }
   ],
   "source": [
    "#create new column date plus time\n",
    "df['issue_datetime']= df['issue_date']+' '+df['issue_time']\n",
    "df['issue_datetime'].head(2)"
   ]
  },
  {
   "cell_type": "code",
   "execution_count": 15,
   "id": "f17d5fb5-bd31-4ca6-8653-c887d256402d",
   "metadata": {},
   "outputs": [
    {
     "data": {
      "text/plain": [
       "0    P170\n",
       "1    P039\n",
       "2    P039\n",
       "Name: violation_code, dtype: object"
      ]
     },
     "execution_count": 15,
     "metadata": {},
     "output_type": "execute_result"
    }
   ],
   "source": [
    "df.violation_code[:3]"
   ]
  },
  {
   "cell_type": "code",
   "execution_count": 16,
   "id": "195eef56-14c5-4fa3-a755-30c03807a4a8",
   "metadata": {},
   "outputs": [
    {
     "data": {
      "text/plain": [
       "0   2017-09-05 11:30:00\n",
       "Name: issue_datetime, dtype: datetime64[ns]"
      ]
     },
     "execution_count": 16,
     "metadata": {},
     "output_type": "execute_result"
    }
   ],
   "source": [
    "#convert to date time format\n",
    "df['issue_datetime'] = df['issue_datetime'].astype('datetime64[ns]')\n",
    "df['issue_datetime'].head(1)"
   ]
  },
  {
   "cell_type": "code",
   "execution_count": 17,
   "id": "3bb7df1d-4e45-4d80-ba36-ac3142633056",
   "metadata": {},
   "outputs": [
    {
     "data": {
      "text/plain": [
       "objectid                         int64\n",
       "issue_date                      object\n",
       "issue_time                      object\n",
       "issuing_agency_code            float64\n",
       "issuing_agency_name             object\n",
       "issuing_agency_short            object\n",
       "violation_code                  object\n",
       "violation_proc_desc             object\n",
       "location                        object\n",
       "disposition_type                object\n",
       "fine_amount                    float64\n",
       "total_paid                       int64\n",
       "xcoord                         float64\n",
       "ycoord                         float64\n",
       "latitude                       float64\n",
       "longitude                      float64\n",
       "mar_id                         float64\n",
       "issue_datetime          datetime64[ns]\n",
       "dtype: object"
      ]
     },
     "execution_count": 17,
     "metadata": {},
     "output_type": "execute_result"
    }
   ],
   "source": [
    "df.dtypes"
   ]
  },
  {
   "cell_type": "code",
   "execution_count": 18,
   "id": "43ec996b-6df3-473a-95af-9c678afb7068",
   "metadata": {},
   "outputs": [],
   "source": [
    "#add columns for year, month, date, dayofweek, hour, minute\n",
    "df['year'] = df['issue_datetime'].dt.year\n",
    "df['month'] = df['issue_datetime'].dt.month\n",
    "df['date'] = df['issue_datetime'].dt.day\n",
    "df['day'] = df['issue_datetime'].dt.dayofweek\n",
    "df['hour'] = df['issue_datetime'].dt.hour\n",
    "df['minute'] = df['issue_datetime'].dt.minute"
   ]
  },
  {
   "cell_type": "code",
   "execution_count": 19,
   "id": "9cdfa0b8-c139-4730-a7ac-4c63a17f9573",
   "metadata": {},
   "outputs": [],
   "source": [
    "#drop unused columns\n",
    "df.drop(columns=['issue_date','issue_time','issue_datetime'],inplace=True)"
   ]
  },
  {
   "cell_type": "code",
   "execution_count": 20,
   "id": "435b6a95-35ce-41a3-8e02-7c0579f69931",
   "metadata": {},
   "outputs": [],
   "source": [
    "# dropping rows with NaN values in these columns\n",
    "df.dropna(axis=0, subset=['xcoord','ycoord','latitude','longitude','mar_id','violation_proc_desc','fine_amount'], inplace=True)\n",
    "# Dropping mar_id column\n",
    "df.drop(columns=['mar_id'],inplace=True)"
   ]
  },
  {
   "cell_type": "code",
   "execution_count": 21,
   "id": "bad9c14c-bc77-4ae9-a190-a70091674f4c",
   "metadata": {},
   "outputs": [
    {
     "data": {
      "text/plain": [
       "objectid                0\n",
       "issuing_agency_code     0\n",
       "issuing_agency_name     0\n",
       "issuing_agency_short    0\n",
       "violation_code          0\n",
       "violation_proc_desc     0\n",
       "location                0\n",
       "disposition_type        0\n",
       "fine_amount             0\n",
       "total_paid              0\n",
       "xcoord                  0\n",
       "ycoord                  0\n",
       "latitude                0\n",
       "longitude               0\n",
       "year                    0\n",
       "month                   0\n",
       "date                    0\n",
       "day                     0\n",
       "hour                    0\n",
       "minute                  0\n",
       "dtype: int64"
      ]
     },
     "execution_count": 21,
     "metadata": {},
     "output_type": "execute_result"
    }
   ],
   "source": [
    "df.isnull().sum()"
   ]
  },
  {
   "cell_type": "code",
   "execution_count": 22,
   "id": "e3a5102b-5ef8-4132-9fbe-408deca697b6",
   "metadata": {},
   "outputs": [
    {
     "data": {
      "text/plain": [
       "(642491, 20)"
      ]
     },
     "execution_count": 22,
     "metadata": {},
     "output_type": "execute_result"
    }
   ],
   "source": [
    "df.shape"
   ]
  },
  {
   "cell_type": "code",
   "execution_count": 23,
   "id": "f16f77f6-a3e7-4b2e-bfe9-852d6f1a1bed",
   "metadata": {},
   "outputs": [],
   "source": [
    "df.to_csv('parking-17.csv',index=False)"
   ]
  },
  {
   "cell_type": "code",
   "execution_count": null,
   "id": "003aeab8-e526-44d0-9688-6c2274c1dd0f",
   "metadata": {},
   "outputs": [],
   "source": []
  },
  {
   "cell_type": "code",
   "execution_count": null,
   "id": "43fcc857-a6b6-4566-8c70-bf3d947a44a1",
   "metadata": {},
   "outputs": [],
   "source": []
  },
  {
   "cell_type": "code",
   "execution_count": null,
   "id": "acd1ff59-db9c-4a98-9a96-7e990e718d2f",
   "metadata": {},
   "outputs": [],
   "source": []
  }
 ],
 "metadata": {
  "kernelspec": {
   "display_name": "Python 3",
   "language": "python",
   "name": "python3"
  },
  "language_info": {
   "codemirror_mode": {
    "name": "ipython",
    "version": 3
   },
   "file_extension": ".py",
   "mimetype": "text/x-python",
   "name": "python",
   "nbconvert_exporter": "python",
   "pygments_lexer": "ipython3",
   "version": "3.8.8"
  }
 },
 "nbformat": 4,
 "nbformat_minor": 5
}
